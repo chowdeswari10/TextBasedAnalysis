{
 "cells": [
  {
   "cell_type": "code",
   "execution_count": 1,
   "id": "07b2ac48-f7a2-4185-b9dc-f90348601125",
   "metadata": {},
   "outputs": [],
   "source": [
    "# String Operations "
   ]
  },
  {
   "cell_type": "code",
   "execution_count": 2,
   "id": "ed81564b-fc34-45e1-8afe-d5894e38fe86",
   "metadata": {},
   "outputs": [
    {
     "name": "stdout",
     "output_type": "stream",
     "text": [
      "Hello\n"
     ]
    }
   ],
   "source": [
    "a= \"Hello\"\n",
    "print(a)"
   ]
  },
  {
   "cell_type": "code",
   "execution_count": 12,
   "id": "86bfa480-6ac0-4215-945d-bd115c023c8a",
   "metadata": {},
   "outputs": [
    {
     "name": "stdout",
     "output_type": "stream",
     "text": [
      "e\n",
      "llo\n"
     ]
    }
   ],
   "source": [
    "# Python String Manipulation Example\n",
    "\n",
    "a = \"Hello, World!\"\n",
    "print(a[1])  # it prints e , try it yourself\n",
    "b = \"Hello, World!\"\n",
    "print(b[2:5])\n"
   ]
  },
  {
   "cell_type": "code",
   "execution_count": 13,
   "id": "a71d246b-f36d-47d4-97b2-797c72ba88af",
   "metadata": {},
   "outputs": [
    {
     "name": "stdout",
     "output_type": "stream",
     "text": [
      "13\n",
      "HELLO, WORLD!\n",
      "hello, world!\n",
      "Jello, World!\n"
     ]
    }
   ],
   "source": [
    "# Example for upper, lower and replace\n",
    "\n",
    "a = \"Hello, World!\"\n",
    "print(len(a))\n",
    "print(a.upper())\n",
    "print(a.lower())\n",
    "print(a.replace(\"H\", \"J\"))\n"
   ]
  },
  {
   "cell_type": "code",
   "execution_count": 14,
   "id": "9b03345d-5cc0-4690-88cd-681e9e70de2f",
   "metadata": {},
   "outputs": [
    {
     "name": "stdout",
     "output_type": "stream",
     "text": [
      "Hello World\n"
     ]
    }
   ],
   "source": [
    "a = \"Hello\"\n",
    "b = \"World\"\n",
    "c = a + \" \" + b\n",
    "print(c)"
   ]
  },
  {
   "cell_type": "code",
   "execution_count": 15,
   "id": "9aff5c6c-9ae6-408f-ab41-601695365689",
   "metadata": {},
   "outputs": [
    {
     "name": "stdout",
     "output_type": "stream",
     "text": [
      "sathvik, putta!\n",
      "Sathvik, Putta!\n",
      "Sathvik, Putta!\n",
      "Sathvik, Putta!\n",
      "Sathvik, Putta!\n",
      "Sathvik, Putta!\n",
      "Sathvik, Putta!\n",
      "SATHVIK, PUTTA!\n"
     ]
    }
   ],
   "source": [
    "# Example for lower()\n",
    "text = \"Sathvik, Putta!\"\n",
    "lowercase_text = text.lower()\n",
    "print(lowercase_text)\n",
    "\n",
    "# Example for lstrip()\n",
    "text = \"Sathvik, Putta!\"\n",
    "stripped_text = text.lstrip()\n",
    "print(stripped_text)\n",
    "\n",
    "# Example for lstrip(char)\n",
    "text = \"###Sathvik, Putta!\"\n",
    "stripped_text = text.lstrip(\"#\")\n",
    "print(stripped_text)\n",
    "\n",
    "# Example for rstrip()\n",
    "text = \"Sathvik, Putta!\"\n",
    "stripped_text = text.rstrip()\n",
    "print(stripped_text)\n",
    "\n",
    "# Example for rstrip(char)\n",
    "text = \"Sathvik, Putta!###\"\n",
    "stripped_text = text.rstrip(\"#\")\n",
    "print(stripped_text)\n",
    "\n",
    "# Example for strip()\n",
    "text = \"Sathvik, Putta!\"\n",
    "stripped_text = text.strip()\n",
    "print(stripped_text)\n",
    "\n",
    "# Example for strip(char)\n",
    "text = \"###Sathvik, Putta!###\"\n",
    "stripped_text = text.strip(\"#\")\n",
    "print(stripped_text)\n",
    "\n",
    "# Example for upper()\n",
    "text = \"Sathvik, Putta!\"\n",
    "uppercase_text = text.upper()\n",
    "print(uppercase_text)\n"
   ]
  },
  {
   "cell_type": "code",
   "execution_count": 16,
   "id": "23d02445-51d7-4a8e-84da-fd605f9a2d03",
   "metadata": {},
   "outputs": [
    {
     "name": "stdout",
     "output_type": "stream",
     "text": [
      "True\n",
      "False\n",
      "True\n",
      "False\n"
     ]
    }
   ],
   "source": [
    "# Example for endswith()\n",
    "text = \"Sathvik, Putta!\"\n",
    "result = text.endswith(\"Putta!\")\n",
    "print(result)\n",
    "\n",
    "# Example for endswith() with different substring\n",
    "result = text.endswith(\"Sathvik\")\n",
    "print(result)\n",
    "\n",
    "# Example for startswith()\n",
    "result = text.startswith(\"Sathvik\")\n",
    "print(result)\n",
    "\n",
    "# Example for startswith() with different substring\n",
    "result = text.startswith(\"Putta\")\n",
    "print(result)\n"
   ]
  },
  {
   "cell_type": "code",
   "execution_count": 17,
   "id": "ab870c56-bfd4-4d49-a4e4-edb80be7d1be",
   "metadata": {},
   "outputs": [
    {
     "name": "stdout",
     "output_type": "stream",
     "text": [
      "9\n",
      "-1\n",
      "Sathvik, Sunny!\n",
      "Sathvik, Putta!\n"
     ]
    }
   ],
   "source": [
    "# Example for find()\n",
    "text = \"Sathvik, Putta!\"\n",
    "index = text.find(\"Putta\")\n",
    "print(index)\n",
    "\n",
    "# Example for find() with non-existing substring\n",
    "index = text.find(\"Sunny\")\n",
    "print(index)\n",
    "\n",
    "# Example for replace()\n",
    "new_text = text.replace(\"Putta\", \"Sunny\")\n",
    "print(new_text)\n",
    "\n",
    "# Example for replace() with non-existing substring\n",
    "new_text = text.replace(\"Python\", \"Sunny\")\n",
    "print(new_text)\n"
   ]
  },
  {
   "cell_type": "code",
   "execution_count": 18,
   "id": "18dfd636-54b2-4b8b-8491-2df5bb3a9ce6",
   "metadata": {},
   "outputs": [
    {
     "name": "stdout",
     "output_type": "stream",
     "text": [
      "True\n",
      "9\n",
      "Sathvik, Sunny!\n",
      "True\n"
     ]
    }
   ],
   "source": [
    "# Example for endswith()\n",
    "text = \"Sathvik, Putta!\"\n",
    "result = text.endswith(\"Putta!\")\n",
    "print(result) \n",
    "\n",
    "# Example for find()\n",
    "index = text.find(\"Putta\")\n",
    "print(index)  \n",
    "\n",
    "# Example for replace()\n",
    "new_text = text.replace(\"Putta\", \"Sunny\")\n",
    "print(new_text)\n",
    "\n",
    "# Example for startswith()\n",
    "result = text.startswith(\"Sathvik\")\n",
    "print(result) \n"
   ]
  },
  {
   "cell_type": "code",
   "execution_count": 19,
   "id": "cf18b5a9-0d96-4c5d-94c5-b2f47505cf5c",
   "metadata": {},
   "outputs": [
    {
     "name": "stdout",
     "output_type": "stream",
     "text": [
      "Sathvik Sathvik Sathvik \n"
     ]
    }
   ],
   "source": [
    "# Using the repetition operator to create multiple copies of a string\n",
    "original_string = \"Sathvik \"\n",
    "repeated_string = original_string * 3  # Repeat \"Sathvik\" three times\n",
    "print(repeated_string)\n"
   ]
  },
  {
   "cell_type": "code",
   "execution_count": 20,
   "id": "c702dfee-bd98-4cf2-894a-af7275955455",
   "metadata": {},
   "outputs": [
    {
     "name": "stdout",
     "output_type": "stream",
     "text": [
      "['My', 'name', 'is', 'Sathvik', 'Putta.']\n",
      "['Sathvik', 'Tejagni', 'Latha', 'Rahul', 'Rohith', 'Peter']\n"
     ]
    }
   ],
   "source": [
    "# Using split() with default separator (space)\n",
    "sentence = \"My name is Sathvik Putta.\"\n",
    "words = sentence.split()\n",
    "print(words)\n",
    "\n",
    "# Using split() with a different separator\n",
    "csv_data = \"Sathvik,Tejagni,Latha,Rahul,Rohith,Peter\"\n",
    "names = csv_data.split(',')\n",
    "print(names)\n"
   ]
  },
  {
   "cell_type": "code",
   "execution_count": 21,
   "id": "de3effd3-4b1e-4576-9302-c2521920bfd2",
   "metadata": {},
   "outputs": [
    {
     "name": "stdout",
     "output_type": "stream",
     "text": [
      "['Sathvik', 'Tejagni', 'Latha', 'Rahul', 'Rohith', 'Peter']\n"
     ]
    }
   ],
   "source": [
    "# String containing substrings separated by spaces\n",
    "sentence = \"Sathvik Tejagni Latha Rahul Rohith Peter\"\n",
    "\n",
    "# Splitting the string into tokens using space as the delimiter\n",
    "tokens = sentence.split()\n",
    "\n",
    "# Printing the tokens\n",
    "print(tokens)\n"
   ]
  },
  {
   "cell_type": "code",
   "execution_count": 22,
   "id": "579e3d3c-57f7-4e9f-bad2-c738fd278167",
   "metadata": {},
   "outputs": [
    {
     "data": {
      "text/plain": [
       "['abc', 'abc', 'abc', 'abc', 'abc']"
      ]
     },
     "execution_count": 22,
     "metadata": {},
     "output_type": "execute_result"
    }
   ],
   "source": [
    "# Basic regexes\n",
    "import regex as re\n",
    "def tokenize(text):\n",
    "    return re.findall(r'abc', text)\n",
    "x = tokenize(\"abcd 45abc abc% abc.com acbrx .=.abc.=. ab c cba ABC \")\n",
    "x"
   ]
  },
  {
   "cell_type": "code",
   "execution_count": 23,
   "id": "ef245ceb-6e2c-4d33-9df8-6df3eeac28c5",
   "metadata": {},
   "outputs": [
    {
     "name": "stdout",
     "output_type": "stream",
     "text": [
      "['gooey', 'moody', 'roody', 'goofy', 'loopy']\n"
     ]
    }
   ],
   "source": [
    "# Groups and ranges (. (a dot) matches any character except \\n• \".oo.y\" matches \"Doocy\", \"goofy\", \"LooPy\", ...• use \\. to literally match a dot . character)\n",
    "import re\n",
    "def tokenize(text):\n",
    "    return re.findall(r'.oo.y', text)\n",
    "x = tokenize(\" abcd gooey moody broody goofy gummy mooooudy loopy ooy \")\n",
    "print(x)\n"
   ]
  },
  {
   "cell_type": "code",
   "execution_count": 25,
   "id": "3f9c0f08-7171-4957-9683-a9a2be163736",
   "metadata": {},
   "outputs": [
    {
     "name": "stdout",
     "output_type": "stream",
     "text": [
      "['abc.abc.com']\n"
     ]
    }
   ],
   "source": [
    "# Capturing the .\n",
    "import re\n",
    "def tokenize(text):\n",
    "    return re.findall(r'abc\\.abc\\.com', text)\n",
    "\n",
    "x = tokenize(\"abc.abc.com abc.abc,com abc,abc.com ABC.abc.com\")\n",
    "print(x)\n"
   ]
  },
  {
   "cell_type": "code",
   "execution_count": 26,
   "id": "5413abaf-b3b0-474c-9a2b-88139e697a14",
   "metadata": {},
   "outputs": [
    {
     "name": "stdout",
     "output_type": "stream",
     "text": [
      "['The']\n",
      "[]\n"
     ]
    }
   ],
   "source": [
    "# Groups and ranges\n",
    "import re\n",
    "def tokenize(text):\n",
    "    return re.findall(r'^The', text)\n",
    "x = tokenize(\"Them \")\n",
    "print(x)\n",
    "y = tokenize(\"them\")\n",
    "print(y)\n"
   ]
  },
  {
   "cell_type": "code",
   "execution_count": 27,
   "id": "1fb58a73-a068-4b25-a5ac-1874348a0acd",
   "metadata": {},
   "outputs": [
    {
     "name": "stdout",
     "output_type": "stream",
     "text": [
      "['abc', 'xyz', 'xyz']\n"
     ]
    }
   ],
   "source": [
    "#Groups and ranges |means Or\n",
    "import re\n",
    "def tokenize(text):\n",
    "    return re.findall(r'abc|xyz', text)\n",
    "x = tokenize(\"abcd xsdxyz xyz derf\")\n",
    "print(x)\n"
   ]
  },
  {
   "cell_type": "code",
   "execution_count": 29,
   "id": "e0068d8d-073e-40be-914c-6aba841ffbc1",
   "metadata": {},
   "outputs": [
    {
     "name": "stdout",
     "output_type": "stream",
     "text": [
      "['c', '', 'cccc', '', 'cccccccc', '']\n"
     ]
    }
   ],
   "source": [
    "# Capture group ( )\n",
    "import re\n",
    "def tokenize(text):\n",
    "    return re.findall(r'ab(c*)', text)\n",
    "x = tokenize(\"abcd ab abcccc acb abbbbc abcccccccc fabulous\")\n",
    "print(x)\n"
   ]
  }
 ],
 "metadata": {
  "kernelspec": {
   "display_name": "Python 3 (ipykernel)",
   "language": "python",
   "name": "python3"
  },
  "language_info": {
   "codemirror_mode": {
    "name": "ipython",
    "version": 3
   },
   "file_extension": ".py",
   "mimetype": "text/x-python",
   "name": "python",
   "nbconvert_exporter": "python",
   "pygments_lexer": "ipython3",
   "version": "3.11.7"
  }
 },
 "nbformat": 4,
 "nbformat_minor": 5
}
