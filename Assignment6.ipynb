{
 "cells": [
  {
   "cell_type": "markdown",
   "id": "46cde18d-4183-45a5-aaeb-8fb321520d84",
   "metadata": {},
   "source": [
    "# Finnish "
   ]
  },
  {
   "cell_type": "code",
   "execution_count": 11,
   "id": "c319732c-38e4-4ddd-93ea-180c0f019feb",
   "metadata": {},
   "outputs": [],
   "source": [
    "from nltk.corpus import stopwords #you can remove stop words for speed\n",
    "from nltk.cluster.util import cosine_distance\n",
    "import numpy as np\n",
    "import networkx as nx"
   ]
  },
  {
   "cell_type": "code",
   "execution_count": 4,
   "id": "4e2b7b61-b4b4-404f-9d39-98bafb9c74d6",
   "metadata": {},
   "outputs": [
    {
     "name": "stdout",
     "output_type": "stream",
     "text": [
      "Collecting fi-core-news-sm==3.7.0\n",
      "  Downloading https://github.com/explosion/spacy-models/releases/download/fi_core_news_sm-3.7.0/fi_core_news_sm-3.7.0-py3-none-any.whl (14.3 MB)\n",
      "     ---------------------------------------- 0.0/14.3 MB ? eta -:--:--\n",
      "     ---------------------------------------- 0.0/14.3 MB ? eta -:--:--\n",
      "     ---------------------------------------- 0.0/14.3 MB ? eta -:--:--\n",
      "     ---------------------------------------- 0.0/14.3 MB ? eta -:--:--\n",
      "     ---------------------------------------- 0.0/14.3 MB ? eta -:--:--\n",
      "     --------------------------------------- 0.0/14.3 MB 178.6 kB/s eta 0:01:21\n",
      "     --------------------------------------- 0.1/14.3 MB 272.3 kB/s eta 0:00:53\n",
      "     --------------------------------------- 0.1/14.3 MB 306.3 kB/s eta 0:00:47\n",
      "     --------------------------------------- 0.1/14.3 MB 306.3 kB/s eta 0:00:47\n",
      "     --------------------------------------- 0.1/14.3 MB 306.3 kB/s eta 0:00:47\n",
      "     --------------------------------------- 0.1/14.3 MB 300.4 kB/s eta 0:00:48\n",
      "     --------------------------------------- 0.1/14.3 MB 315.4 kB/s eta 0:00:46\n",
      "     --------------------------------------- 0.2/14.3 MB 327.3 kB/s eta 0:00:44\n",
      "      -------------------------------------- 0.2/14.3 MB 436.6 kB/s eta 0:00:33\n",
      "      -------------------------------------- 0.2/14.3 MB 436.6 kB/s eta 0:00:33\n",
      "      -------------------------------------- 0.3/14.3 MB 425.2 kB/s eta 0:00:34\n",
      "      -------------------------------------- 0.3/14.3 MB 399.4 kB/s eta 0:00:36\n",
      "     - ------------------------------------- 0.4/14.3 MB 553.5 kB/s eta 0:00:26\n",
      "     - ------------------------------------- 0.5/14.3 MB 696.3 kB/s eta 0:00:20\n",
      "     - ------------------------------------- 0.6/14.3 MB 721.9 kB/s eta 0:00:20\n",
      "     - ------------------------------------- 0.6/14.3 MB 717.9 kB/s eta 0:00:20\n",
      "     - ------------------------------------- 0.7/14.3 MB 762.9 kB/s eta 0:00:18\n",
      "     -- ------------------------------------ 0.8/14.3 MB 888.5 kB/s eta 0:00:16\n",
      "     -- ------------------------------------- 1.0/14.3 MB 1.1 MB/s eta 0:00:13\n",
      "     -- ------------------------------------- 1.1/14.3 MB 1.1 MB/s eta 0:00:13\n",
      "     -- ------------------------------------- 1.1/14.3 MB 1.1 MB/s eta 0:00:13\n",
      "     --- ------------------------------------ 1.2/14.3 MB 1.1 MB/s eta 0:00:13\n",
      "     --- ------------------------------------ 1.2/14.3 MB 1.0 MB/s eta 0:00:13\n",
      "     --- ------------------------------------ 1.3/14.3 MB 1.1 MB/s eta 0:00:13\n",
      "     ---- ----------------------------------- 1.5/14.3 MB 1.2 MB/s eta 0:00:12\n",
      "     ---- ----------------------------------- 1.6/14.3 MB 1.3 MB/s eta 0:00:11\n",
      "     ---- ----------------------------------- 1.7/14.3 MB 1.3 MB/s eta 0:00:10\n",
      "     ----- ---------------------------------- 1.8/14.3 MB 1.3 MB/s eta 0:00:10\n",
      "     ----- ---------------------------------- 2.0/14.3 MB 1.4 MB/s eta 0:00:10\n",
      "     ----- ---------------------------------- 2.0/14.3 MB 1.4 MB/s eta 0:00:09\n",
      "     ----- ---------------------------------- 2.1/14.3 MB 1.4 MB/s eta 0:00:09\n",
      "     ------ --------------------------------- 2.2/14.3 MB 1.4 MB/s eta 0:00:09\n",
      "     ------ --------------------------------- 2.4/14.3 MB 1.5 MB/s eta 0:00:09\n",
      "     ------ --------------------------------- 2.4/14.3 MB 1.5 MB/s eta 0:00:08\n",
      "     ------- -------------------------------- 2.6/14.3 MB 1.5 MB/s eta 0:00:08\n",
      "     ------- -------------------------------- 2.6/14.3 MB 1.5 MB/s eta 0:00:08\n",
      "     ------- -------------------------------- 2.7/14.3 MB 1.5 MB/s eta 0:00:08\n",
      "     ------- -------------------------------- 2.8/14.3 MB 1.5 MB/s eta 0:00:08\n",
      "     -------- ------------------------------- 3.0/14.3 MB 1.6 MB/s eta 0:00:08\n",
      "     -------- ------------------------------- 3.0/14.3 MB 1.6 MB/s eta 0:00:08\n",
      "     -------- ------------------------------- 3.1/14.3 MB 1.6 MB/s eta 0:00:08\n",
      "     -------- ------------------------------- 3.2/14.3 MB 1.6 MB/s eta 0:00:07\n",
      "     --------- ------------------------------ 3.3/14.3 MB 1.6 MB/s eta 0:00:07\n",
      "     --------- ------------------------------ 3.5/14.3 MB 1.7 MB/s eta 0:00:07\n",
      "     --------- ------------------------------ 3.5/14.3 MB 1.6 MB/s eta 0:00:07\n",
      "     ---------- ----------------------------- 3.7/14.3 MB 1.7 MB/s eta 0:00:07\n",
      "     ---------- ----------------------------- 3.8/14.3 MB 1.7 MB/s eta 0:00:07\n",
      "     ----------- ---------------------------- 4.0/14.3 MB 1.7 MB/s eta 0:00:06\n",
      "     ----------- ---------------------------- 4.1/14.3 MB 1.8 MB/s eta 0:00:06\n",
      "     ----------- ---------------------------- 4.2/14.3 MB 1.8 MB/s eta 0:00:06\n",
      "     ----------- ---------------------------- 4.2/14.3 MB 1.7 MB/s eta 0:00:06\n",
      "     ------------ --------------------------- 4.4/14.3 MB 1.8 MB/s eta 0:00:06\n",
      "     ------------ --------------------------- 4.5/14.3 MB 1.8 MB/s eta 0:00:06\n",
      "     ------------ --------------------------- 4.6/14.3 MB 1.8 MB/s eta 0:00:06\n",
      "     ------------ --------------------------- 4.6/14.3 MB 1.8 MB/s eta 0:00:06\n",
      "     ------------- -------------------------- 4.7/14.3 MB 1.8 MB/s eta 0:00:06\n",
      "     ------------- -------------------------- 4.8/14.3 MB 1.8 MB/s eta 0:00:06\n",
      "     ------------- -------------------------- 4.8/14.3 MB 1.8 MB/s eta 0:00:06\n",
      "     -------------- ------------------------- 5.1/14.3 MB 1.8 MB/s eta 0:00:06\n",
      "     -------------- ------------------------- 5.2/14.3 MB 1.8 MB/s eta 0:00:06\n",
      "     -------------- ------------------------- 5.3/14.3 MB 1.8 MB/s eta 0:00:05\n",
      "     --------------- ------------------------ 5.4/14.3 MB 1.8 MB/s eta 0:00:05\n",
      "     --------------- ------------------------ 5.5/14.3 MB 1.8 MB/s eta 0:00:05\n",
      "     --------------- ------------------------ 5.6/14.3 MB 1.9 MB/s eta 0:00:05\n",
      "     --------------- ------------------------ 5.7/14.3 MB 1.9 MB/s eta 0:00:05\n",
      "     ---------------- ----------------------- 5.8/14.3 MB 1.9 MB/s eta 0:00:05\n",
      "     ---------------- ----------------------- 5.9/14.3 MB 1.9 MB/s eta 0:00:05\n",
      "     ---------------- ----------------------- 6.0/14.3 MB 1.9 MB/s eta 0:00:05\n",
      "     ---------------- ----------------------- 6.1/14.3 MB 1.9 MB/s eta 0:00:05\n",
      "     ----------------- ---------------------- 6.2/14.3 MB 1.9 MB/s eta 0:00:05\n",
      "     ----------------- ---------------------- 6.3/14.3 MB 1.9 MB/s eta 0:00:05\n",
      "     ------------------ --------------------- 6.5/14.3 MB 1.9 MB/s eta 0:00:05\n",
      "     ------------------ --------------------- 6.7/14.3 MB 2.0 MB/s eta 0:00:04\n",
      "     ------------------ --------------------- 6.8/14.3 MB 2.0 MB/s eta 0:00:04\n",
      "     ------------------- -------------------- 6.8/14.3 MB 2.0 MB/s eta 0:00:04\n",
      "     ------------------- -------------------- 6.9/14.3 MB 1.9 MB/s eta 0:00:04\n",
      "     ------------------- -------------------- 7.1/14.3 MB 2.0 MB/s eta 0:00:04\n",
      "     ------------------- -------------------- 7.1/14.3 MB 2.0 MB/s eta 0:00:04\n",
      "     -------------------- ------------------- 7.3/14.3 MB 2.0 MB/s eta 0:00:04\n",
      "     -------------------- ------------------- 7.4/14.3 MB 2.0 MB/s eta 0:00:04\n",
      "     --------------------- ------------------ 7.5/14.3 MB 2.0 MB/s eta 0:00:04\n",
      "     --------------------- ------------------ 7.7/14.3 MB 2.0 MB/s eta 0:00:04\n",
      "     --------------------- ------------------ 7.8/14.3 MB 2.0 MB/s eta 0:00:04\n",
      "     ---------------------- ----------------- 7.9/14.3 MB 2.0 MB/s eta 0:00:04\n",
      "     ---------------------- ----------------- 8.1/14.3 MB 2.0 MB/s eta 0:00:04\n",
      "     ---------------------- ----------------- 8.2/14.3 MB 2.0 MB/s eta 0:00:04\n",
      "     ----------------------- ---------------- 8.4/14.3 MB 2.1 MB/s eta 0:00:03\n",
      "     ----------------------- ---------------- 8.5/14.3 MB 2.1 MB/s eta 0:00:03\n",
      "     ------------------------ --------------- 8.7/14.3 MB 2.1 MB/s eta 0:00:03\n",
      "     ------------------------ --------------- 8.8/14.3 MB 2.1 MB/s eta 0:00:03\n",
      "     ------------------------ --------------- 9.0/14.3 MB 2.1 MB/s eta 0:00:03\n",
      "     ------------------------- -------------- 9.0/14.3 MB 2.1 MB/s eta 0:00:03\n",
      "     ------------------------- -------------- 9.1/14.3 MB 2.1 MB/s eta 0:00:03\n",
      "     ------------------------- -------------- 9.2/14.3 MB 2.1 MB/s eta 0:00:03\n",
      "     ------------------------- -------------- 9.3/14.3 MB 2.1 MB/s eta 0:00:03\n",
      "     -------------------------- ------------- 9.5/14.3 MB 2.1 MB/s eta 0:00:03\n",
      "     -------------------------- ------------- 9.5/14.3 MB 2.1 MB/s eta 0:00:03\n",
      "     -------------------------- ------------- 9.6/14.3 MB 2.1 MB/s eta 0:00:03\n",
      "     -------------------------- ------------- 9.6/14.3 MB 2.1 MB/s eta 0:00:03\n",
      "     --------------------------- ------------ 9.7/14.3 MB 2.1 MB/s eta 0:00:03\n",
      "     --------------------------- ------------ 9.9/14.3 MB 2.1 MB/s eta 0:00:03\n",
      "     --------------------------- ------------ 10.0/14.3 MB 2.1 MB/s eta 0:00:03\n",
      "     --------------------------- ------------ 10.0/14.3 MB 2.1 MB/s eta 0:00:03\n",
      "     ---------------------------- ----------- 10.1/14.3 MB 2.1 MB/s eta 0:00:03\n",
      "     ---------------------------- ----------- 10.2/14.3 MB 2.1 MB/s eta 0:00:03\n",
      "     ---------------------------- ----------- 10.2/14.3 MB 2.1 MB/s eta 0:00:02\n",
      "     ---------------------------- ----------- 10.3/14.3 MB 2.1 MB/s eta 0:00:02\n",
      "     ---------------------------- ----------- 10.3/14.3 MB 2.2 MB/s eta 0:00:02\n",
      "     ---------------------------- ----------- 10.4/14.3 MB 2.2 MB/s eta 0:00:02\n",
      "     ----------------------------- ---------- 10.5/14.3 MB 2.3 MB/s eta 0:00:02\n",
      "     ----------------------------- ---------- 10.6/14.3 MB 2.3 MB/s eta 0:00:02\n",
      "     ----------------------------- ---------- 10.6/14.3 MB 2.3 MB/s eta 0:00:02\n",
      "     ----------------------------- ---------- 10.7/14.3 MB 2.3 MB/s eta 0:00:02\n",
      "     ------------------------------ --------- 10.8/14.3 MB 2.3 MB/s eta 0:00:02\n",
      "     ------------------------------ --------- 10.8/14.3 MB 2.3 MB/s eta 0:00:02\n",
      "     ------------------------------ --------- 10.9/14.3 MB 2.3 MB/s eta 0:00:02\n",
      "     ------------------------------ --------- 10.9/14.3 MB 2.3 MB/s eta 0:00:02\n",
      "     ------------------------------ --------- 10.9/14.3 MB 2.2 MB/s eta 0:00:02\n",
      "     ------------------------------ --------- 10.9/14.3 MB 2.2 MB/s eta 0:00:02\n",
      "     ------------------------------ --------- 11.0/14.3 MB 2.2 MB/s eta 0:00:02\n",
      "     ------------------------------- -------- 11.1/14.3 MB 2.2 MB/s eta 0:00:02\n",
      "     ------------------------------- -------- 11.2/14.3 MB 2.2 MB/s eta 0:00:02\n",
      "     ------------------------------- -------- 11.2/14.3 MB 2.2 MB/s eta 0:00:02\n",
      "     ------------------------------- -------- 11.3/14.3 MB 2.2 MB/s eta 0:00:02\n",
      "     ------------------------------- -------- 11.3/14.3 MB 2.2 MB/s eta 0:00:02\n",
      "     ------------------------------- -------- 11.4/14.3 MB 2.2 MB/s eta 0:00:02\n",
      "     ------------------------------- -------- 11.5/14.3 MB 2.2 MB/s eta 0:00:02\n",
      "     ------------------------------- -------- 11.5/14.3 MB 2.2 MB/s eta 0:00:02\n",
      "     -------------------------------- ------- 11.6/14.3 MB 2.2 MB/s eta 0:00:02\n",
      "     -------------------------------- ------- 11.7/14.3 MB 2.2 MB/s eta 0:00:02\n",
      "     -------------------------------- ------- 11.8/14.3 MB 2.1 MB/s eta 0:00:02\n",
      "     --------------------------------- ------ 11.8/14.3 MB 2.1 MB/s eta 0:00:02\n",
      "     --------------------------------- ------ 12.0/14.3 MB 2.1 MB/s eta 0:00:02\n",
      "     --------------------------------- ------ 12.2/14.3 MB 2.2 MB/s eta 0:00:02\n",
      "     ---------------------------------- ----- 12.2/14.3 MB 2.1 MB/s eta 0:00:01\n",
      "     ---------------------------------- ----- 12.3/14.3 MB 2.2 MB/s eta 0:00:01\n",
      "     ---------------------------------- ----- 12.5/14.3 MB 2.1 MB/s eta 0:00:01\n",
      "     ---------------------------------- ----- 12.5/14.3 MB 2.1 MB/s eta 0:00:01\n",
      "     ----------------------------------- ---- 12.6/14.3 MB 2.1 MB/s eta 0:00:01\n",
      "     ----------------------------------- ---- 12.8/14.3 MB 2.2 MB/s eta 0:00:01\n",
      "     ------------------------------------ --- 13.0/14.3 MB 2.2 MB/s eta 0:00:01\n",
      "     ------------------------------------ --- 13.0/14.3 MB 2.2 MB/s eta 0:00:01\n",
      "     ------------------------------------ --- 13.2/14.3 MB 2.2 MB/s eta 0:00:01\n",
      "     ------------------------------------ --- 13.3/14.3 MB 2.2 MB/s eta 0:00:01\n",
      "     ------------------------------------- -- 13.4/14.3 MB 2.2 MB/s eta 0:00:01\n",
      "     ------------------------------------- -- 13.4/14.3 MB 2.2 MB/s eta 0:00:01\n",
      "     ------------------------------------- -- 13.5/14.3 MB 2.2 MB/s eta 0:00:01\n",
      "     -------------------------------------- - 13.6/14.3 MB 2.2 MB/s eta 0:00:01\n",
      "     -------------------------------------- - 13.8/14.3 MB 2.2 MB/s eta 0:00:01\n",
      "     -------------------------------------- - 13.9/14.3 MB 2.2 MB/s eta 0:00:01\n",
      "     -------------------------------------- - 14.0/14.3 MB 2.2 MB/s eta 0:00:01\n",
      "     ---------------------------------------  14.2/14.3 MB 2.2 MB/s eta 0:00:01\n",
      "     ---------------------------------------  14.2/14.3 MB 2.2 MB/s eta 0:00:01\n",
      "     ---------------------------------------  14.3/14.3 MB 2.2 MB/s eta 0:00:01\n",
      "     ---------------------------------------- 14.3/14.3 MB 2.2 MB/s eta 0:00:00\n",
      "Requirement already satisfied: spacy<3.8.0,>=3.7.0 in c:\\users\\dell\\appdata\\local\\programs\\python\\python312\\lib\\site-packages (from fi-core-news-sm==3.7.0) (3.7.4)\n",
      "Requirement already satisfied: spacy-legacy<3.1.0,>=3.0.11 in c:\\users\\dell\\appdata\\local\\programs\\python\\python312\\lib\\site-packages (from spacy<3.8.0,>=3.7.0->fi-core-news-sm==3.7.0) (3.0.12)\n",
      "Requirement already satisfied: spacy-loggers<2.0.0,>=1.0.0 in c:\\users\\dell\\appdata\\local\\programs\\python\\python312\\lib\\site-packages (from spacy<3.8.0,>=3.7.0->fi-core-news-sm==3.7.0) (1.0.5)\n",
      "Requirement already satisfied: murmurhash<1.1.0,>=0.28.0 in c:\\users\\dell\\appdata\\local\\programs\\python\\python312\\lib\\site-packages (from spacy<3.8.0,>=3.7.0->fi-core-news-sm==3.7.0) (1.0.10)\n",
      "Requirement already satisfied: cymem<2.1.0,>=2.0.2 in c:\\users\\dell\\appdata\\local\\programs\\python\\python312\\lib\\site-packages (from spacy<3.8.0,>=3.7.0->fi-core-news-sm==3.7.0) (2.0.8)\n",
      "Requirement already satisfied: preshed<3.1.0,>=3.0.2 in c:\\users\\dell\\appdata\\local\\programs\\python\\python312\\lib\\site-packages (from spacy<3.8.0,>=3.7.0->fi-core-news-sm==3.7.0) (3.0.9)\n",
      "Requirement already satisfied: thinc<8.3.0,>=8.2.2 in c:\\users\\dell\\appdata\\local\\programs\\python\\python312\\lib\\site-packages (from spacy<3.8.0,>=3.7.0->fi-core-news-sm==3.7.0) (8.2.3)\n",
      "Requirement already satisfied: wasabi<1.2.0,>=0.9.1 in c:\\users\\dell\\appdata\\local\\programs\\python\\python312\\lib\\site-packages (from spacy<3.8.0,>=3.7.0->fi-core-news-sm==3.7.0) (1.1.2)\n",
      "Requirement already satisfied: srsly<3.0.0,>=2.4.3 in c:\\users\\dell\\appdata\\local\\programs\\python\\python312\\lib\\site-packages (from spacy<3.8.0,>=3.7.0->fi-core-news-sm==3.7.0) (2.4.8)\n",
      "Requirement already satisfied: catalogue<2.1.0,>=2.0.6 in c:\\users\\dell\\appdata\\local\\programs\\python\\python312\\lib\\site-packages (from spacy<3.8.0,>=3.7.0->fi-core-news-sm==3.7.0) (2.0.10)\n",
      "Requirement already satisfied: weasel<0.4.0,>=0.1.0 in c:\\users\\dell\\appdata\\local\\programs\\python\\python312\\lib\\site-packages (from spacy<3.8.0,>=3.7.0->fi-core-news-sm==3.7.0) (0.3.4)\n",
      "Requirement already satisfied: typer<0.10.0,>=0.3.0 in c:\\users\\dell\\appdata\\local\\programs\\python\\python312\\lib\\site-packages (from spacy<3.8.0,>=3.7.0->fi-core-news-sm==3.7.0) (0.9.4)\n",
      "Requirement already satisfied: smart-open<7.0.0,>=5.2.1 in c:\\users\\dell\\appdata\\local\\programs\\python\\python312\\lib\\site-packages (from spacy<3.8.0,>=3.7.0->fi-core-news-sm==3.7.0) (6.4.0)\n",
      "Requirement already satisfied: tqdm<5.0.0,>=4.38.0 in c:\\users\\dell\\appdata\\local\\programs\\python\\python312\\lib\\site-packages (from spacy<3.8.0,>=3.7.0->fi-core-news-sm==3.7.0) (4.66.2)\n",
      "Requirement already satisfied: requests<3.0.0,>=2.13.0 in c:\\users\\dell\\appdata\\local\\programs\\python\\python312\\lib\\site-packages (from spacy<3.8.0,>=3.7.0->fi-core-news-sm==3.7.0) (2.31.0)\n",
      "Requirement already satisfied: pydantic!=1.8,!=1.8.1,<3.0.0,>=1.7.4 in c:\\users\\dell\\appdata\\local\\programs\\python\\python312\\lib\\site-packages (from spacy<3.8.0,>=3.7.0->fi-core-news-sm==3.7.0) (2.7.1)\n",
      "Requirement already satisfied: jinja2 in c:\\users\\dell\\appdata\\local\\programs\\python\\python312\\lib\\site-packages (from spacy<3.8.0,>=3.7.0->fi-core-news-sm==3.7.0) (3.1.3)\n",
      "Requirement already satisfied: setuptools in c:\\users\\dell\\appdata\\local\\programs\\python\\python312\\lib\\site-packages (from spacy<3.8.0,>=3.7.0->fi-core-news-sm==3.7.0) (69.5.1)\n",
      "Requirement already satisfied: packaging>=20.0 in c:\\users\\dell\\appdata\\local\\programs\\python\\python312\\lib\\site-packages (from spacy<3.8.0,>=3.7.0->fi-core-news-sm==3.7.0) (24.0)\n",
      "Requirement already satisfied: langcodes<4.0.0,>=3.2.0 in c:\\users\\dell\\appdata\\local\\programs\\python\\python312\\lib\\site-packages (from spacy<3.8.0,>=3.7.0->fi-core-news-sm==3.7.0) (3.4.0)\n",
      "Requirement already satisfied: numpy>=1.19.0 in c:\\users\\dell\\appdata\\local\\programs\\python\\python312\\lib\\site-packages (from spacy<3.8.0,>=3.7.0->fi-core-news-sm==3.7.0) (1.26.4)\n",
      "Requirement already satisfied: language-data>=1.2 in c:\\users\\dell\\appdata\\local\\programs\\python\\python312\\lib\\site-packages (from langcodes<4.0.0,>=3.2.0->spacy<3.8.0,>=3.7.0->fi-core-news-sm==3.7.0) (1.2.0)\n",
      "Requirement already satisfied: annotated-types>=0.4.0 in c:\\users\\dell\\appdata\\local\\programs\\python\\python312\\lib\\site-packages (from pydantic!=1.8,!=1.8.1,<3.0.0,>=1.7.4->spacy<3.8.0,>=3.7.0->fi-core-news-sm==3.7.0) (0.6.0)\n",
      "Requirement already satisfied: pydantic-core==2.18.2 in c:\\users\\dell\\appdata\\local\\programs\\python\\python312\\lib\\site-packages (from pydantic!=1.8,!=1.8.1,<3.0.0,>=1.7.4->spacy<3.8.0,>=3.7.0->fi-core-news-sm==3.7.0) (2.18.2)\n",
      "Requirement already satisfied: typing-extensions>=4.6.1 in c:\\users\\dell\\appdata\\local\\programs\\python\\python312\\lib\\site-packages (from pydantic!=1.8,!=1.8.1,<3.0.0,>=1.7.4->spacy<3.8.0,>=3.7.0->fi-core-news-sm==3.7.0) (4.11.0)\n",
      "Requirement already satisfied: charset-normalizer<4,>=2 in c:\\users\\dell\\appdata\\local\\programs\\python\\python312\\lib\\site-packages (from requests<3.0.0,>=2.13.0->spacy<3.8.0,>=3.7.0->fi-core-news-sm==3.7.0) (3.3.2)\n",
      "Requirement already satisfied: idna<4,>=2.5 in c:\\users\\dell\\appdata\\local\\programs\\python\\python312\\lib\\site-packages (from requests<3.0.0,>=2.13.0->spacy<3.8.0,>=3.7.0->fi-core-news-sm==3.7.0) (3.7)\n",
      "Requirement already satisfied: urllib3<3,>=1.21.1 in c:\\users\\dell\\appdata\\local\\programs\\python\\python312\\lib\\site-packages (from requests<3.0.0,>=2.13.0->spacy<3.8.0,>=3.7.0->fi-core-news-sm==3.7.0) (2.2.1)\n",
      "Requirement already satisfied: certifi>=2017.4.17 in c:\\users\\dell\\appdata\\local\\programs\\python\\python312\\lib\\site-packages (from requests<3.0.0,>=2.13.0->spacy<3.8.0,>=3.7.0->fi-core-news-sm==3.7.0) (2024.2.2)\n",
      "Requirement already satisfied: blis<0.8.0,>=0.7.8 in c:\\users\\dell\\appdata\\local\\programs\\python\\python312\\lib\\site-packages (from thinc<8.3.0,>=8.2.2->spacy<3.8.0,>=3.7.0->fi-core-news-sm==3.7.0) (0.7.11)\n",
      "Requirement already satisfied: confection<1.0.0,>=0.0.1 in c:\\users\\dell\\appdata\\local\\programs\\python\\python312\\lib\\site-packages (from thinc<8.3.0,>=8.2.2->spacy<3.8.0,>=3.7.0->fi-core-news-sm==3.7.0) (0.1.4)\n",
      "Requirement already satisfied: colorama in c:\\users\\dell\\appdata\\local\\programs\\python\\python312\\lib\\site-packages (from tqdm<5.0.0,>=4.38.0->spacy<3.8.0,>=3.7.0->fi-core-news-sm==3.7.0) (0.4.6)\n",
      "Requirement already satisfied: click<9.0.0,>=7.1.1 in c:\\users\\dell\\appdata\\local\\programs\\python\\python312\\lib\\site-packages (from typer<0.10.0,>=0.3.0->spacy<3.8.0,>=3.7.0->fi-core-news-sm==3.7.0) (8.1.7)\n",
      "Requirement already satisfied: cloudpathlib<0.17.0,>=0.7.0 in c:\\users\\dell\\appdata\\local\\programs\\python\\python312\\lib\\site-packages (from weasel<0.4.0,>=0.1.0->spacy<3.8.0,>=3.7.0->fi-core-news-sm==3.7.0) (0.16.0)\n",
      "Requirement already satisfied: MarkupSafe>=2.0 in c:\\users\\dell\\appdata\\local\\programs\\python\\python312\\lib\\site-packages (from jinja2->spacy<3.8.0,>=3.7.0->fi-core-news-sm==3.7.0) (2.1.5)\n",
      "Requirement already satisfied: marisa-trie>=0.7.7 in c:\\users\\dell\\appdata\\local\\programs\\python\\python312\\lib\\site-packages (from language-data>=1.2->langcodes<4.0.0,>=3.2.0->spacy<3.8.0,>=3.7.0->fi-core-news-sm==3.7.0) (1.1.0)\n",
      "Installing collected packages: fi-core-news-sm\n",
      "Successfully installed fi-core-news-sm-3.7.0\n",
      "\u001b[38;5;2m[+] Download and installation successful\u001b[0m\n",
      "You can now load the package via spacy.load('fi_core_news_sm')\n"
     ]
    }
   ],
   "source": [
    "!python -m spacy download fi_core_news_sm\n",
    "\n",
    "import spacy\n",
    "\n",
    "# Load the Finnish language model\n",
    "nlp = spacy.load(\"fi_core_news_sm\")\n"
   ]
  },
  {
   "cell_type": "code",
   "execution_count": 37,
   "id": "4c671c6b-cc23-41bb-aa02-57803b5cb837",
   "metadata": {},
   "outputs": [
    {
     "name": "stdout",
     "output_type": "stream",
     "text": [
      "Suomen kieli on yksi maailman vaikeimmista kielistÃ¤, mutta samalla myÃ¶s yksi kauneimmista ja ilmaisuvoimaisimmista\n",
      "Se kuuluu suomalais-ugrilaiseen kieliperheeseen yhdessÃ¤ viron ja unkarin kanssa\n",
      "Suomen kielessÃ¤ on paljon erityispiirteitÃ¤, jotka tekevÃ¤t siitÃ¤ ainutlaatuisen ja mielenkiintoisen.\n",
      "\n"
     ]
    }
   ],
   "source": [
    "file = open(\"C:\\\\Users\\\\Dell\\\\OneDrive\\\\Desktop\\\\TextBasedAnalysis\\\\Text1.txt\", \"r\")\n",
    "\n",
    "# This file contains one paragraph with multiple sentences\n",
    "filedata = file.readlines()\n",
    "\n",
    "article = filedata[0].split(\". \")  # Process only the first paragraph\n",
    "\n",
    "sentences = []\n",
    "\n",
    "for sentence in article:\n",
    "    print(sentence)\n",
    "    doc = nlp(sentence)\n",
    "    words = [token.text for token in doc]\n",
    "    sentences.append(words)"
   ]
  },
  {
   "cell_type": "code",
   "execution_count": 38,
   "id": "8b5d0efd-cc47-43ce-997d-6669ba2ce3f8",
   "metadata": {},
   "outputs": [
    {
     "name": "stdout",
     "output_type": "stream",
     "text": [
      "Sentences are  [['Suomen', 'kieli', 'on', 'yksi', 'maailman', 'vaikeimmista', 'kielistÃ¤', ',', 'mutta', 'samalla', 'myÃ¶s', 'yksi', 'kauneimmista', 'ja', 'ilmaisuvoimaisimmista'], ['Se', 'kuuluu', 'suomalais-ugrilaiseen', 'kieliperheeseen', 'yhdessÃ¤', 'viron', 'ja', 'unkarin', 'kanssa'], ['Suomen', 'kielessÃ¤', 'on', 'paljon', 'erityispiirteitÃ¤', ',', 'jotka', 'tekevÃ¤t', 'siitÃ¤', 'ainutlaatuisen', 'ja', 'mielenkiintoisen', '.', '\\n']]\n"
     ]
    }
   ],
   "source": [
    "print(\"Sentences are \", sentences)"
   ]
  },
  {
   "cell_type": "code",
   "execution_count": 39,
   "id": "a98a4ff1-1af5-4f0f-a6b7-3a4f46f6ae0e",
   "metadata": {},
   "outputs": [],
   "source": [
    "def sentence_similarity(sent1, sent2 ):\n",
    "    sent1 = [w.lower() for w in sent1]\n",
    "    sent2 = [w.lower() for w in sent2]\n",
    "    all_words = list(set(sent1 + sent2))\n",
    "    vector1 = [0] * len(all_words)\n",
    "    vector2 = [0] * len(all_words)\n",
    "     # build the vector for the first sentence\n",
    "    for w in sent1:\n",
    "          vector1[all_words.index(w)] += 1\n",
    "     # build the vector for the second sentence\n",
    "    for w in sent2:\n",
    "          vector2[all_words.index(w)] += 1\n",
    "    return 1 - cosine_distance(vector1, vector2)"
   ]
  },
  {
   "cell_type": "code",
   "execution_count": 40,
   "id": "8a38c524-68cf-4598-8c08-03d7122f191e",
   "metadata": {},
   "outputs": [
    {
     "name": "stdout",
     "output_type": "stream",
     "text": [
      "Smilarity matrix \n",
      " [[0.         0.08084521 0.25928149]\n",
      " [0.08084521 0.         0.08908708]\n",
      " [0.25928149 0.08908708 0.        ]]\n"
     ]
    }
   ],
   "source": [
    "import numpy as np\n",
    "similarity_matrix = np.zeros((len(sentences), len(sentences)))\n",
    " \n",
    "for idx1 in range(len(sentences)):\n",
    "        for idx2 in range(len(sentences)):\n",
    "             if idx1 == idx2: #ignore if both are same sentences\n",
    "                continue \n",
    "             similarity_matrix[idx1][idx2] = sentence_similarity(sentences[idx1], sentences[idx2])\n",
    "\n",
    "print(\"Smilarity matrix \\n\", similarity_matrix)\n"
   ]
  },
  {
   "cell_type": "code",
   "execution_count": 41,
   "id": "711dbbaa-edb1-4ac8-b85d-4a137fc1dd92",
   "metadata": {},
   "outputs": [
    {
     "name": "stdout",
     "output_type": "stream",
     "text": [
      "scores {0: 0.3880970037531015, 1: 0.21474050252752702, 2: 0.3971624937193709}\n"
     ]
    }
   ],
   "source": [
    "# Step 3 - Rank sentences in similarity martix\n",
    "sentence_similarity_graph = nx.from_numpy_array(similarity_matrix)\n",
    "scores = nx.pagerank(sentence_similarity_graph)\n",
    "print(\"scores\", scores)"
   ]
  },
  {
   "cell_type": "code",
   "execution_count": 42,
   "id": "e18a5858-3a73-4c80-a187-0f1fca04a8d5",
   "metadata": {},
   "outputs": [
    {
     "name": "stdout",
     "output_type": "stream",
     "text": [
      "Indexes of top ranked_sentence order are \n",
      "\n",
      " [(0.3971624937193709, ['Suomen', 'kielessÃ¤', 'on', 'paljon', 'erityispiirteitÃ¤', ',', 'jotka', 'tekevÃ¤t', 'siitÃ¤', 'ainutlaatuisen', 'ja', 'mielenkiintoisen', '.', '\\n']), (0.3880970037531015, ['Suomen', 'kieli', 'on', 'yksi', 'maailman', 'vaikeimmista', 'kielistÃ¤', ',', 'mutta', 'samalla', 'myÃ¶s', 'yksi', 'kauneimmista', 'ja', 'ilmaisuvoimaisimmista']), (0.21474050252752702, ['Se', 'kuuluu', 'suomalais-ugrilaiseen', 'kieliperheeseen', 'yhdessÃ¤', 'viron', 'ja', 'unkarin', 'kanssa'])]\n"
     ]
    }
   ],
   "source": [
    "# Step 4 - Sort the rank and pick top sentences\n",
    "ranked_sentence = sorted(((scores[i],s) for i,s in enumerate(sentences)), reverse=True)    \n",
    "print(\"Indexes of top ranked_sentence order are \\n\\n\", ranked_sentence)\n"
   ]
  },
  {
   "cell_type": "code",
   "execution_count": 44,
   "id": "b2475aae-d920-4a53-9f74-6b582f5ea69e",
   "metadata": {},
   "outputs": [
    {
     "name": "stdin",
     "output_type": "stream",
     "text": [
      "How many sentences do you want in the summary?  3\n"
     ]
    }
   ],
   "source": [
    "#Step 5 - How many sentences to pick\n",
    "n = int(input(\"How many sentences do you want in the summary? \"))\n",
    "#n=2\n",
    "summarize_text = []\n",
    "for i in range(n):\n",
    "      summarize_text.append(\" \".join(ranked_sentence[i][1]))\n",
    "\n"
   ]
  },
  {
   "cell_type": "code",
   "execution_count": 45,
   "id": "56624b49-4c86-41ec-876f-ce82392b9901",
   "metadata": {},
   "outputs": [
    {
     "name": "stdout",
     "output_type": "stream",
     "text": [
      "Summarize Text: \n",
      " Suomen kielessÃ¤ on paljon erityispiirteitÃ¤ , jotka tekevÃ¤t siitÃ¤ ainutlaatuisen ja mielenkiintoisen . \n",
      ". Suomen kieli on yksi maailman vaikeimmista kielistÃ¤ , mutta samalla myÃ¶s yksi kauneimmista ja ilmaisuvoimaisimmista. Se kuuluu suomalais-ugrilaiseen kieliperheeseen yhdessÃ¤ viron ja unkarin kanssa\n"
     ]
    }
   ],
   "source": [
    "# Step 6 - Offcourse, output the summarize text\n",
    "print(\"Summarize Text: \\n\", \". \".join(summarize_text))"
   ]
  },
  {
   "cell_type": "markdown",
   "id": "d073f9eb-bdae-41ae-a1dc-61607391548e",
   "metadata": {},
   "source": [
    "# Chinese"
   ]
  },
  {
   "cell_type": "code",
   "execution_count": 17,
   "id": "c01e04b1-dfc1-4045-b064-6dee2b96b7d3",
   "metadata": {},
   "outputs": [
    {
     "name": "stdout",
     "output_type": "stream",
     "text": [
      "Collecting fi-core-news-sm==3.7.0\n",
      "  Downloading https://github.com/explosion/spacy-models/releases/download/fi_core_news_sm-3.7.0/fi_core_news_sm-3.7.0-py3-none-any.whl (14.3 MB)\n",
      "     ---------------------------------------- 0.0/14.3 MB ? eta -:--:--\n",
      "     ---------------------------------------- 0.1/14.3 MB 2.3 MB/s eta 0:00:07\n",
      "     ---------------------------------------- 0.1/14.3 MB 1.6 MB/s eta 0:00:10\n",
      "      --------------------------------------- 0.3/14.3 MB 2.0 MB/s eta 0:00:07\n",
      "     - -------------------------------------- 0.4/14.3 MB 2.3 MB/s eta 0:00:07\n",
      "     - -------------------------------------- 0.5/14.3 MB 2.2 MB/s eta 0:00:07\n",
      "     - -------------------------------------- 0.6/14.3 MB 2.2 MB/s eta 0:00:07\n",
      "     -- ------------------------------------- 0.8/14.3 MB 2.3 MB/s eta 0:00:06\n",
      "     -- ------------------------------------- 0.8/14.3 MB 2.3 MB/s eta 0:00:06\n",
      "     -- ------------------------------------- 0.8/14.3 MB 2.1 MB/s eta 0:00:07\n",
      "     -- ------------------------------------- 0.9/14.3 MB 2.0 MB/s eta 0:00:07\n",
      "     -- ------------------------------------- 1.0/14.3 MB 1.9 MB/s eta 0:00:07\n",
      "     --- ------------------------------------ 1.1/14.3 MB 2.0 MB/s eta 0:00:07\n",
      "     --- ------------------------------------ 1.2/14.3 MB 2.0 MB/s eta 0:00:07\n",
      "     --- ------------------------------------ 1.3/14.3 MB 2.1 MB/s eta 0:00:07\n",
      "     --- ------------------------------------ 1.4/14.3 MB 2.0 MB/s eta 0:00:07\n",
      "     ---- ----------------------------------- 1.5/14.3 MB 1.9 MB/s eta 0:00:07\n",
      "     ---- ----------------------------------- 1.5/14.3 MB 1.9 MB/s eta 0:00:07\n",
      "     ---- ----------------------------------- 1.6/14.3 MB 1.9 MB/s eta 0:00:07\n",
      "     ---- ----------------------------------- 1.7/14.3 MB 1.9 MB/s eta 0:00:07\n",
      "     ---- ----------------------------------- 1.8/14.3 MB 2.0 MB/s eta 0:00:07\n",
      "     ----- ---------------------------------- 1.9/14.3 MB 2.0 MB/s eta 0:00:07\n",
      "     ----- ---------------------------------- 2.0/14.3 MB 2.0 MB/s eta 0:00:07\n",
      "     ----- ---------------------------------- 2.1/14.3 MB 2.0 MB/s eta 0:00:07\n",
      "     ------ --------------------------------- 2.2/14.3 MB 1.9 MB/s eta 0:00:07\n",
      "     ------ --------------------------------- 2.3/14.3 MB 1.9 MB/s eta 0:00:07\n",
      "     ------ --------------------------------- 2.3/14.3 MB 1.9 MB/s eta 0:00:07\n",
      "     ------ --------------------------------- 2.3/14.3 MB 1.8 MB/s eta 0:00:07\n",
      "     ------ --------------------------------- 2.5/14.3 MB 1.9 MB/s eta 0:00:07\n",
      "     ------- -------------------------------- 2.6/14.3 MB 1.9 MB/s eta 0:00:07\n",
      "     ------- -------------------------------- 2.7/14.3 MB 1.9 MB/s eta 0:00:07\n",
      "     ------- -------------------------------- 2.8/14.3 MB 1.9 MB/s eta 0:00:06\n",
      "     -------- ------------------------------- 2.9/14.3 MB 1.9 MB/s eta 0:00:06\n",
      "     -------- ------------------------------- 2.9/14.3 MB 1.9 MB/s eta 0:00:06\n",
      "     -------- ------------------------------- 3.0/14.3 MB 1.9 MB/s eta 0:00:07\n",
      "     -------- ------------------------------- 3.1/14.3 MB 1.9 MB/s eta 0:00:06\n",
      "     -------- ------------------------------- 3.2/14.3 MB 1.9 MB/s eta 0:00:06\n",
      "     --------- ------------------------------ 3.3/14.3 MB 1.9 MB/s eta 0:00:06\n",
      "     --------- ------------------------------ 3.4/14.3 MB 1.9 MB/s eta 0:00:06\n",
      "     --------- ------------------------------ 3.5/14.3 MB 1.9 MB/s eta 0:00:06\n",
      "     ---------- ----------------------------- 3.6/14.3 MB 1.9 MB/s eta 0:00:06\n",
      "     ---------- ----------------------------- 3.7/14.3 MB 1.9 MB/s eta 0:00:06\n",
      "     ---------- ----------------------------- 3.8/14.3 MB 1.9 MB/s eta 0:00:06\n",
      "     ---------- ----------------------------- 3.9/14.3 MB 1.9 MB/s eta 0:00:06\n",
      "     ---------- ----------------------------- 3.9/14.3 MB 1.9 MB/s eta 0:00:06\n",
      "     ----------- ---------------------------- 4.1/14.3 MB 1.9 MB/s eta 0:00:06\n",
      "     ----------- ---------------------------- 4.2/14.3 MB 1.9 MB/s eta 0:00:06\n",
      "     ----------- ---------------------------- 4.2/14.3 MB 1.9 MB/s eta 0:00:06\n",
      "     ------------ --------------------------- 4.4/14.3 MB 1.9 MB/s eta 0:00:06\n",
      "     ------------ --------------------------- 4.5/14.3 MB 1.9 MB/s eta 0:00:06\n",
      "     ------------ --------------------------- 4.6/14.3 MB 1.9 MB/s eta 0:00:06\n",
      "     ------------ --------------------------- 4.7/14.3 MB 1.9 MB/s eta 0:00:06\n",
      "     ------------- -------------------------- 4.9/14.3 MB 2.0 MB/s eta 0:00:05\n",
      "     ------------- -------------------------- 5.0/14.3 MB 2.0 MB/s eta 0:00:05\n",
      "     -------------- ------------------------- 5.1/14.3 MB 2.0 MB/s eta 0:00:05\n",
      "     -------------- ------------------------- 5.2/14.3 MB 2.0 MB/s eta 0:00:05\n",
      "     -------------- ------------------------- 5.3/14.3 MB 2.0 MB/s eta 0:00:05\n",
      "     -------------- ------------------------- 5.4/14.3 MB 2.0 MB/s eta 0:00:05\n",
      "     --------------- ------------------------ 5.5/14.3 MB 2.0 MB/s eta 0:00:05\n",
      "     --------------- ------------------------ 5.5/14.3 MB 2.0 MB/s eta 0:00:05\n",
      "     --------------- ------------------------ 5.5/14.3 MB 2.0 MB/s eta 0:00:05\n",
      "     --------------- ------------------------ 5.6/14.3 MB 2.0 MB/s eta 0:00:05\n",
      "     --------------- ------------------------ 5.7/14.3 MB 2.0 MB/s eta 0:00:05\n",
      "     ---------------- ----------------------- 5.8/14.3 MB 2.0 MB/s eta 0:00:05\n",
      "     ---------------- ----------------------- 5.9/14.3 MB 2.0 MB/s eta 0:00:05\n",
      "     ---------------- ----------------------- 6.0/14.3 MB 2.0 MB/s eta 0:00:05\n",
      "     ---------------- ----------------------- 6.0/14.3 MB 2.0 MB/s eta 0:00:05\n",
      "     ----------------- ---------------------- 6.2/14.3 MB 2.0 MB/s eta 0:00:05\n",
      "     ----------------- ---------------------- 6.2/14.3 MB 1.9 MB/s eta 0:00:05\n",
      "     ----------------- ---------------------- 6.3/14.3 MB 2.0 MB/s eta 0:00:05\n",
      "     ------------------ --------------------- 6.5/14.3 MB 2.0 MB/s eta 0:00:04\n",
      "     ------------------ --------------------- 6.6/14.3 MB 2.0 MB/s eta 0:00:04\n",
      "     ------------------ --------------------- 6.7/14.3 MB 2.0 MB/s eta 0:00:04\n",
      "     ------------------ --------------------- 6.8/14.3 MB 2.0 MB/s eta 0:00:04\n",
      "     ------------------ --------------------- 6.8/14.3 MB 2.0 MB/s eta 0:00:04\n",
      "     ------------------- -------------------- 6.9/14.3 MB 2.0 MB/s eta 0:00:04\n",
      "     ------------------- -------------------- 6.9/14.3 MB 2.0 MB/s eta 0:00:04\n",
      "     ------------------- -------------------- 7.0/14.3 MB 2.0 MB/s eta 0:00:04\n",
      "     ------------------- -------------------- 7.0/14.3 MB 1.9 MB/s eta 0:00:04\n",
      "     ------------------- -------------------- 7.1/14.3 MB 1.9 MB/s eta 0:00:04\n",
      "     -------------------- ------------------- 7.2/14.3 MB 1.9 MB/s eta 0:00:04\n",
      "     -------------------- ------------------- 7.3/14.3 MB 1.9 MB/s eta 0:00:04\n",
      "     -------------------- ------------------- 7.4/14.3 MB 1.9 MB/s eta 0:00:04\n",
      "     -------------------- ------------------- 7.5/14.3 MB 2.0 MB/s eta 0:00:04\n",
      "     --------------------- ------------------ 7.6/14.3 MB 1.9 MB/s eta 0:00:04\n",
      "     --------------------- ------------------ 7.7/14.3 MB 1.9 MB/s eta 0:00:04\n",
      "     --------------------- ------------------ 7.7/14.3 MB 1.9 MB/s eta 0:00:04\n",
      "     --------------------- ------------------ 7.9/14.3 MB 2.0 MB/s eta 0:00:04\n",
      "     ---------------------- ----------------- 7.9/14.3 MB 1.9 MB/s eta 0:00:04\n",
      "     ---------------------- ----------------- 8.0/14.3 MB 2.0 MB/s eta 0:00:04\n",
      "     ---------------------- ----------------- 8.1/14.3 MB 1.9 MB/s eta 0:00:04\n",
      "     ---------------------- ----------------- 8.1/14.3 MB 1.9 MB/s eta 0:00:04\n",
      "     ---------------------- ----------------- 8.2/14.3 MB 1.9 MB/s eta 0:00:04\n",
      "     ---------------------- ----------------- 8.2/14.3 MB 1.9 MB/s eta 0:00:04\n",
      "     ----------------------- ---------------- 8.4/14.3 MB 1.9 MB/s eta 0:00:04\n",
      "     ----------------------- ---------------- 8.4/14.3 MB 1.9 MB/s eta 0:00:04\n",
      "     ----------------------- ---------------- 8.6/14.3 MB 1.9 MB/s eta 0:00:03\n",
      "     ------------------------ --------------- 8.7/14.3 MB 1.9 MB/s eta 0:00:03\n",
      "     ------------------------ --------------- 8.9/14.3 MB 2.0 MB/s eta 0:00:03\n",
      "     ------------------------- -------------- 9.0/14.3 MB 2.0 MB/s eta 0:00:03\n",
      "     ------------------------- -------------- 9.0/14.3 MB 2.0 MB/s eta 0:00:03\n",
      "     ------------------------- -------------- 9.1/14.3 MB 1.9 MB/s eta 0:00:03\n",
      "     ------------------------- -------------- 9.2/14.3 MB 2.0 MB/s eta 0:00:03\n",
      "     ------------------------- -------------- 9.3/14.3 MB 2.0 MB/s eta 0:00:03\n",
      "     -------------------------- ------------- 9.3/14.3 MB 1.9 MB/s eta 0:00:03\n",
      "     -------------------------- ------------- 9.4/14.3 MB 1.9 MB/s eta 0:00:03\n",
      "     -------------------------- ------------- 9.4/14.3 MB 1.9 MB/s eta 0:00:03\n",
      "     -------------------------- ------------- 9.5/14.3 MB 1.9 MB/s eta 0:00:03\n",
      "     -------------------------- ------------- 9.6/14.3 MB 1.9 MB/s eta 0:00:03\n",
      "     -------------------------- ------------- 9.6/14.3 MB 1.9 MB/s eta 0:00:03\n",
      "     -------------------------- ------------- 9.7/14.3 MB 1.9 MB/s eta 0:00:03\n",
      "     --------------------------- ------------ 9.7/14.3 MB 1.9 MB/s eta 0:00:03\n",
      "     --------------------------- ------------ 9.8/14.3 MB 1.9 MB/s eta 0:00:03\n",
      "     --------------------------- ------------ 9.9/14.3 MB 1.9 MB/s eta 0:00:03\n",
      "     --------------------------- ------------ 10.0/14.3 MB 1.9 MB/s eta 0:00:03\n",
      "     --------------------------- ------------ 10.0/14.3 MB 1.9 MB/s eta 0:00:03\n",
      "     ---------------------------- ----------- 10.1/14.3 MB 1.9 MB/s eta 0:00:03\n",
      "     ---------------------------- ----------- 10.2/14.3 MB 1.9 MB/s eta 0:00:03\n",
      "     ---------------------------- ----------- 10.2/14.3 MB 1.9 MB/s eta 0:00:03\n",
      "     ---------------------------- ----------- 10.2/14.3 MB 1.9 MB/s eta 0:00:03\n",
      "     ---------------------------- ----------- 10.3/14.3 MB 1.9 MB/s eta 0:00:03\n",
      "     ----------------------------- ---------- 10.4/14.3 MB 1.9 MB/s eta 0:00:03\n",
      "     ----------------------------- ---------- 10.5/14.3 MB 1.8 MB/s eta 0:00:03\n",
      "     ----------------------------- ---------- 10.5/14.3 MB 1.8 MB/s eta 0:00:03\n",
      "     ----------------------------- ---------- 10.6/14.3 MB 1.8 MB/s eta 0:00:03\n",
      "     ----------------------------- ---------- 10.7/14.3 MB 1.8 MB/s eta 0:00:03\n",
      "     ----------------------------- ---------- 10.7/14.3 MB 1.8 MB/s eta 0:00:02\n",
      "     ------------------------------ --------- 10.8/14.3 MB 1.8 MB/s eta 0:00:02\n",
      "     ------------------------------ --------- 10.9/14.3 MB 1.8 MB/s eta 0:00:02\n",
      "     ------------------------------ --------- 11.0/14.3 MB 1.8 MB/s eta 0:00:02\n",
      "     ------------------------------ --------- 11.1/14.3 MB 1.8 MB/s eta 0:00:02\n",
      "     ------------------------------- -------- 11.1/14.3 MB 1.8 MB/s eta 0:00:02\n",
      "     ------------------------------- -------- 11.2/14.3 MB 1.8 MB/s eta 0:00:02\n",
      "     ------------------------------- -------- 11.3/14.3 MB 1.8 MB/s eta 0:00:02\n",
      "     ------------------------------- -------- 11.4/14.3 MB 1.8 MB/s eta 0:00:02\n",
      "     ------------------------------- -------- 11.4/14.3 MB 1.8 MB/s eta 0:00:02\n",
      "     -------------------------------- ------- 11.5/14.3 MB 1.8 MB/s eta 0:00:02\n",
      "     -------------------------------- ------- 11.5/14.3 MB 1.8 MB/s eta 0:00:02\n",
      "     -------------------------------- ------- 11.5/14.3 MB 1.8 MB/s eta 0:00:02\n",
      "     -------------------------------- ------- 11.6/14.3 MB 1.8 MB/s eta 0:00:02\n",
      "     -------------------------------- ------- 11.6/14.3 MB 1.8 MB/s eta 0:00:02\n",
      "     -------------------------------- ------- 11.7/14.3 MB 1.8 MB/s eta 0:00:02\n",
      "     -------------------------------- ------- 11.8/14.3 MB 1.8 MB/s eta 0:00:02\n",
      "     --------------------------------- ------ 11.9/14.3 MB 1.8 MB/s eta 0:00:02\n",
      "     --------------------------------- ------ 12.0/14.3 MB 1.8 MB/s eta 0:00:02\n",
      "     --------------------------------- ------ 12.0/14.3 MB 1.8 MB/s eta 0:00:02\n",
      "     --------------------------------- ------ 12.2/14.3 MB 1.8 MB/s eta 0:00:02\n",
      "     ---------------------------------- ----- 12.2/14.3 MB 1.8 MB/s eta 0:00:02\n",
      "     ---------------------------------- ----- 12.3/14.3 MB 1.8 MB/s eta 0:00:02\n",
      "     ---------------------------------- ----- 12.3/14.3 MB 1.7 MB/s eta 0:00:02\n",
      "     ---------------------------------- ----- 12.3/14.3 MB 1.7 MB/s eta 0:00:02\n",
      "     ---------------------------------- ----- 12.4/14.3 MB 1.7 MB/s eta 0:00:02\n",
      "     ---------------------------------- ----- 12.5/14.3 MB 1.7 MB/s eta 0:00:02\n",
      "     ---------------------------------- ----- 12.5/14.3 MB 1.7 MB/s eta 0:00:02\n",
      "     ----------------------------------- ---- 12.6/14.3 MB 1.7 MB/s eta 0:00:02\n",
      "     ----------------------------------- ---- 12.6/14.3 MB 1.7 MB/s eta 0:00:01\n",
      "     ----------------------------------- ---- 12.7/14.3 MB 1.7 MB/s eta 0:00:01\n",
      "     ----------------------------------- ---- 12.7/14.3 MB 1.7 MB/s eta 0:00:01\n",
      "     ----------------------------------- ---- 12.8/14.3 MB 1.7 MB/s eta 0:00:01\n",
      "     ----------------------------------- ---- 12.9/14.3 MB 1.7 MB/s eta 0:00:01\n",
      "     ------------------------------------ --- 12.9/14.3 MB 1.7 MB/s eta 0:00:01\n",
      "     ------------------------------------ --- 13.0/14.3 MB 1.7 MB/s eta 0:00:01\n",
      "     ------------------------------------ --- 13.0/14.3 MB 1.7 MB/s eta 0:00:01\n",
      "     ------------------------------------ --- 13.1/14.3 MB 1.7 MB/s eta 0:00:01\n",
      "     ------------------------------------ --- 13.2/14.3 MB 1.7 MB/s eta 0:00:01\n",
      "     ------------------------------------- -- 13.3/14.3 MB 1.7 MB/s eta 0:00:01\n",
      "     ------------------------------------- -- 13.4/14.3 MB 1.7 MB/s eta 0:00:01\n",
      "     ------------------------------------- -- 13.4/14.3 MB 1.7 MB/s eta 0:00:01\n",
      "     ------------------------------------- -- 13.5/14.3 MB 1.7 MB/s eta 0:00:01\n",
      "     ------------------------------------- -- 13.6/14.3 MB 1.7 MB/s eta 0:00:01\n",
      "     ------------------------------------- -- 13.6/14.3 MB 1.7 MB/s eta 0:00:01\n",
      "     -------------------------------------- - 13.6/14.3 MB 1.7 MB/s eta 0:00:01\n",
      "     -------------------------------------- - 13.6/14.3 MB 1.7 MB/s eta 0:00:01\n",
      "     -------------------------------------- - 13.8/14.3 MB 1.7 MB/s eta 0:00:01\n",
      "     -------------------------------------- - 13.8/14.3 MB 1.6 MB/s eta 0:00:01\n",
      "     -------------------------------------- - 14.0/14.3 MB 1.7 MB/s eta 0:00:01\n",
      "     ---------------------------------------  14.0/14.3 MB 1.6 MB/s eta 0:00:01\n",
      "     ---------------------------------------  14.1/14.3 MB 1.7 MB/s eta 0:00:01\n",
      "     ---------------------------------------  14.2/14.3 MB 1.6 MB/s eta 0:00:01\n",
      "     ---------------------------------------  14.3/14.3 MB 1.6 MB/s eta 0:00:01\n",
      "     ---------------------------------------- 14.3/14.3 MB 1.6 MB/s eta 0:00:00\n",
      "Requirement already satisfied: spacy<3.8.0,>=3.7.0 in c:\\users\\dell\\appdata\\local\\programs\\python\\python312\\lib\\site-packages (from fi-core-news-sm==3.7.0) (3.7.4)\n",
      "Requirement already satisfied: spacy-legacy<3.1.0,>=3.0.11 in c:\\users\\dell\\appdata\\local\\programs\\python\\python312\\lib\\site-packages (from spacy<3.8.0,>=3.7.0->fi-core-news-sm==3.7.0) (3.0.12)\n",
      "Requirement already satisfied: spacy-loggers<2.0.0,>=1.0.0 in c:\\users\\dell\\appdata\\local\\programs\\python\\python312\\lib\\site-packages (from spacy<3.8.0,>=3.7.0->fi-core-news-sm==3.7.0) (1.0.5)\n",
      "Requirement already satisfied: murmurhash<1.1.0,>=0.28.0 in c:\\users\\dell\\appdata\\local\\programs\\python\\python312\\lib\\site-packages (from spacy<3.8.0,>=3.7.0->fi-core-news-sm==3.7.0) (1.0.10)\n",
      "Requirement already satisfied: cymem<2.1.0,>=2.0.2 in c:\\users\\dell\\appdata\\local\\programs\\python\\python312\\lib\\site-packages (from spacy<3.8.0,>=3.7.0->fi-core-news-sm==3.7.0) (2.0.8)\n",
      "Requirement already satisfied: preshed<3.1.0,>=3.0.2 in c:\\users\\dell\\appdata\\local\\programs\\python\\python312\\lib\\site-packages (from spacy<3.8.0,>=3.7.0->fi-core-news-sm==3.7.0) (3.0.9)\n",
      "Requirement already satisfied: thinc<8.3.0,>=8.2.2 in c:\\users\\dell\\appdata\\local\\programs\\python\\python312\\lib\\site-packages (from spacy<3.8.0,>=3.7.0->fi-core-news-sm==3.7.0) (8.2.3)\n",
      "Requirement already satisfied: wasabi<1.2.0,>=0.9.1 in c:\\users\\dell\\appdata\\local\\programs\\python\\python312\\lib\\site-packages (from spacy<3.8.0,>=3.7.0->fi-core-news-sm==3.7.0) (1.1.2)\n",
      "Requirement already satisfied: srsly<3.0.0,>=2.4.3 in c:\\users\\dell\\appdata\\local\\programs\\python\\python312\\lib\\site-packages (from spacy<3.8.0,>=3.7.0->fi-core-news-sm==3.7.0) (2.4.8)\n",
      "Requirement already satisfied: catalogue<2.1.0,>=2.0.6 in c:\\users\\dell\\appdata\\local\\programs\\python\\python312\\lib\\site-packages (from spacy<3.8.0,>=3.7.0->fi-core-news-sm==3.7.0) (2.0.10)\n",
      "Requirement already satisfied: weasel<0.4.0,>=0.1.0 in c:\\users\\dell\\appdata\\local\\programs\\python\\python312\\lib\\site-packages (from spacy<3.8.0,>=3.7.0->fi-core-news-sm==3.7.0) (0.3.4)\n",
      "Requirement already satisfied: typer<0.10.0,>=0.3.0 in c:\\users\\dell\\appdata\\local\\programs\\python\\python312\\lib\\site-packages (from spacy<3.8.0,>=3.7.0->fi-core-news-sm==3.7.0) (0.9.4)\n",
      "Requirement already satisfied: smart-open<7.0.0,>=5.2.1 in c:\\users\\dell\\appdata\\local\\programs\\python\\python312\\lib\\site-packages (from spacy<3.8.0,>=3.7.0->fi-core-news-sm==3.7.0) (6.4.0)\n",
      "Requirement already satisfied: tqdm<5.0.0,>=4.38.0 in c:\\users\\dell\\appdata\\local\\programs\\python\\python312\\lib\\site-packages (from spacy<3.8.0,>=3.7.0->fi-core-news-sm==3.7.0) (4.66.2)\n",
      "Requirement already satisfied: requests<3.0.0,>=2.13.0 in c:\\users\\dell\\appdata\\local\\programs\\python\\python312\\lib\\site-packages (from spacy<3.8.0,>=3.7.0->fi-core-news-sm==3.7.0) (2.31.0)\n",
      "Requirement already satisfied: pydantic!=1.8,!=1.8.1,<3.0.0,>=1.7.4 in c:\\users\\dell\\appdata\\local\\programs\\python\\python312\\lib\\site-packages (from spacy<3.8.0,>=3.7.0->fi-core-news-sm==3.7.0) (2.7.1)\n",
      "Requirement already satisfied: jinja2 in c:\\users\\dell\\appdata\\local\\programs\\python\\python312\\lib\\site-packages (from spacy<3.8.0,>=3.7.0->fi-core-news-sm==3.7.0) (3.1.3)\n",
      "Requirement already satisfied: setuptools in c:\\users\\dell\\appdata\\local\\programs\\python\\python312\\lib\\site-packages (from spacy<3.8.0,>=3.7.0->fi-core-news-sm==3.7.0) (69.5.1)\n",
      "Requirement already satisfied: packaging>=20.0 in c:\\users\\dell\\appdata\\local\\programs\\python\\python312\\lib\\site-packages (from spacy<3.8.0,>=3.7.0->fi-core-news-sm==3.7.0) (24.0)\n",
      "Requirement already satisfied: langcodes<4.0.0,>=3.2.0 in c:\\users\\dell\\appdata\\local\\programs\\python\\python312\\lib\\site-packages (from spacy<3.8.0,>=3.7.0->fi-core-news-sm==3.7.0) (3.4.0)\n",
      "Requirement already satisfied: numpy>=1.19.0 in c:\\users\\dell\\appdata\\local\\programs\\python\\python312\\lib\\site-packages (from spacy<3.8.0,>=3.7.0->fi-core-news-sm==3.7.0) (1.26.4)\n",
      "Requirement already satisfied: language-data>=1.2 in c:\\users\\dell\\appdata\\local\\programs\\python\\python312\\lib\\site-packages (from langcodes<4.0.0,>=3.2.0->spacy<3.8.0,>=3.7.0->fi-core-news-sm==3.7.0) (1.2.0)\n",
      "Requirement already satisfied: annotated-types>=0.4.0 in c:\\users\\dell\\appdata\\local\\programs\\python\\python312\\lib\\site-packages (from pydantic!=1.8,!=1.8.1,<3.0.0,>=1.7.4->spacy<3.8.0,>=3.7.0->fi-core-news-sm==3.7.0) (0.6.0)\n",
      "Requirement already satisfied: pydantic-core==2.18.2 in c:\\users\\dell\\appdata\\local\\programs\\python\\python312\\lib\\site-packages (from pydantic!=1.8,!=1.8.1,<3.0.0,>=1.7.4->spacy<3.8.0,>=3.7.0->fi-core-news-sm==3.7.0) (2.18.2)\n",
      "Requirement already satisfied: typing-extensions>=4.6.1 in c:\\users\\dell\\appdata\\local\\programs\\python\\python312\\lib\\site-packages (from pydantic!=1.8,!=1.8.1,<3.0.0,>=1.7.4->spacy<3.8.0,>=3.7.0->fi-core-news-sm==3.7.0) (4.11.0)\n",
      "Requirement already satisfied: charset-normalizer<4,>=2 in c:\\users\\dell\\appdata\\local\\programs\\python\\python312\\lib\\site-packages (from requests<3.0.0,>=2.13.0->spacy<3.8.0,>=3.7.0->fi-core-news-sm==3.7.0) (3.3.2)\n",
      "Requirement already satisfied: idna<4,>=2.5 in c:\\users\\dell\\appdata\\local\\programs\\python\\python312\\lib\\site-packages (from requests<3.0.0,>=2.13.0->spacy<3.8.0,>=3.7.0->fi-core-news-sm==3.7.0) (3.7)\n",
      "Requirement already satisfied: urllib3<3,>=1.21.1 in c:\\users\\dell\\appdata\\local\\programs\\python\\python312\\lib\\site-packages (from requests<3.0.0,>=2.13.0->spacy<3.8.0,>=3.7.0->fi-core-news-sm==3.7.0) (2.2.1)\n",
      "Requirement already satisfied: certifi>=2017.4.17 in c:\\users\\dell\\appdata\\local\\programs\\python\\python312\\lib\\site-packages (from requests<3.0.0,>=2.13.0->spacy<3.8.0,>=3.7.0->fi-core-news-sm==3.7.0) (2024.2.2)\n",
      "Requirement already satisfied: blis<0.8.0,>=0.7.8 in c:\\users\\dell\\appdata\\local\\programs\\python\\python312\\lib\\site-packages (from thinc<8.3.0,>=8.2.2->spacy<3.8.0,>=3.7.0->fi-core-news-sm==3.7.0) (0.7.11)\n",
      "Requirement already satisfied: confection<1.0.0,>=0.0.1 in c:\\users\\dell\\appdata\\local\\programs\\python\\python312\\lib\\site-packages (from thinc<8.3.0,>=8.2.2->spacy<3.8.0,>=3.7.0->fi-core-news-sm==3.7.0) (0.1.4)\n",
      "Requirement already satisfied: colorama in c:\\users\\dell\\appdata\\local\\programs\\python\\python312\\lib\\site-packages (from tqdm<5.0.0,>=4.38.0->spacy<3.8.0,>=3.7.0->fi-core-news-sm==3.7.0) (0.4.6)\n",
      "Requirement already satisfied: click<9.0.0,>=7.1.1 in c:\\users\\dell\\appdata\\local\\programs\\python\\python312\\lib\\site-packages (from typer<0.10.0,>=0.3.0->spacy<3.8.0,>=3.7.0->fi-core-news-sm==3.7.0) (8.1.7)\n",
      "Requirement already satisfied: cloudpathlib<0.17.0,>=0.7.0 in c:\\users\\dell\\appdata\\local\\programs\\python\\python312\\lib\\site-packages (from weasel<0.4.0,>=0.1.0->spacy<3.8.0,>=3.7.0->fi-core-news-sm==3.7.0) (0.16.0)\n",
      "Requirement already satisfied: MarkupSafe>=2.0 in c:\\users\\dell\\appdata\\local\\programs\\python\\python312\\lib\\site-packages (from jinja2->spacy<3.8.0,>=3.7.0->fi-core-news-sm==3.7.0) (2.1.5)\n",
      "Requirement already satisfied: marisa-trie>=0.7.7 in c:\\users\\dell\\appdata\\local\\programs\\python\\python312\\lib\\site-packages (from language-data>=1.2->langcodes<4.0.0,>=3.2.0->spacy<3.8.0,>=3.7.0->fi-core-news-sm==3.7.0) (1.1.0)\n",
      "\u001b[38;5;2m[+] Download and installation successful\u001b[0m\n",
      "You can now load the package via spacy.load('fi_core_news_sm')\n"
     ]
    },
    {
     "ename": "OSError",
     "evalue": "[E050] Can't find model 'zh_core_web_lg'. It doesn't seem to be a Python package or a valid path to a data directory.",
     "output_type": "error",
     "traceback": [
      "\u001b[1;31m---------------------------------------------------------------------------\u001b[0m",
      "\u001b[1;31mOSError\u001b[0m                                   Traceback (most recent call last)",
      "Cell \u001b[1;32mIn[17], line 6\u001b[0m\n\u001b[0;32m      3\u001b[0m \u001b[38;5;28;01mimport\u001b[39;00m \u001b[38;5;21;01mspacy\u001b[39;00m\n\u001b[0;32m      5\u001b[0m \u001b[38;5;66;03m# Load the Finnish language model\u001b[39;00m\n\u001b[1;32m----> 6\u001b[0m nlp \u001b[38;5;241m=\u001b[39m \u001b[43mspacy\u001b[49m\u001b[38;5;241;43m.\u001b[39;49m\u001b[43mload\u001b[49m\u001b[43m(\u001b[49m\u001b[38;5;124;43m\"\u001b[39;49m\u001b[38;5;124;43mzh_core_web_lg\u001b[39;49m\u001b[38;5;124;43m\"\u001b[39;49m\u001b[43m)\u001b[49m\n",
      "File \u001b[1;32m~\\AppData\\Local\\Programs\\Python\\Python312\\Lib\\site-packages\\spacy\\__init__.py:51\u001b[0m, in \u001b[0;36mload\u001b[1;34m(name, vocab, disable, enable, exclude, config)\u001b[0m\n\u001b[0;32m     27\u001b[0m \u001b[38;5;28;01mdef\u001b[39;00m \u001b[38;5;21mload\u001b[39m(\n\u001b[0;32m     28\u001b[0m     name: Union[\u001b[38;5;28mstr\u001b[39m, Path],\n\u001b[0;32m     29\u001b[0m     \u001b[38;5;241m*\u001b[39m,\n\u001b[1;32m   (...)\u001b[0m\n\u001b[0;32m     34\u001b[0m     config: Union[Dict[\u001b[38;5;28mstr\u001b[39m, Any], Config] \u001b[38;5;241m=\u001b[39m util\u001b[38;5;241m.\u001b[39mSimpleFrozenDict(),\n\u001b[0;32m     35\u001b[0m ) \u001b[38;5;241m-\u001b[39m\u001b[38;5;241m>\u001b[39m Language:\n\u001b[0;32m     36\u001b[0m \u001b[38;5;250m    \u001b[39m\u001b[38;5;124;03m\"\"\"Load a spaCy model from an installed package or a local path.\u001b[39;00m\n\u001b[0;32m     37\u001b[0m \n\u001b[0;32m     38\u001b[0m \u001b[38;5;124;03m    name (str): Package name or model path.\u001b[39;00m\n\u001b[1;32m   (...)\u001b[0m\n\u001b[0;32m     49\u001b[0m \u001b[38;5;124;03m    RETURNS (Language): The loaded nlp object.\u001b[39;00m\n\u001b[0;32m     50\u001b[0m \u001b[38;5;124;03m    \"\"\"\u001b[39;00m\n\u001b[1;32m---> 51\u001b[0m     \u001b[38;5;28;01mreturn\u001b[39;00m \u001b[43mutil\u001b[49m\u001b[38;5;241;43m.\u001b[39;49m\u001b[43mload_model\u001b[49m\u001b[43m(\u001b[49m\n\u001b[0;32m     52\u001b[0m \u001b[43m        \u001b[49m\u001b[43mname\u001b[49m\u001b[43m,\u001b[49m\n\u001b[0;32m     53\u001b[0m \u001b[43m        \u001b[49m\u001b[43mvocab\u001b[49m\u001b[38;5;241;43m=\u001b[39;49m\u001b[43mvocab\u001b[49m\u001b[43m,\u001b[49m\n\u001b[0;32m     54\u001b[0m \u001b[43m        \u001b[49m\u001b[43mdisable\u001b[49m\u001b[38;5;241;43m=\u001b[39;49m\u001b[43mdisable\u001b[49m\u001b[43m,\u001b[49m\n\u001b[0;32m     55\u001b[0m \u001b[43m        \u001b[49m\u001b[43menable\u001b[49m\u001b[38;5;241;43m=\u001b[39;49m\u001b[43menable\u001b[49m\u001b[43m,\u001b[49m\n\u001b[0;32m     56\u001b[0m \u001b[43m        \u001b[49m\u001b[43mexclude\u001b[49m\u001b[38;5;241;43m=\u001b[39;49m\u001b[43mexclude\u001b[49m\u001b[43m,\u001b[49m\n\u001b[0;32m     57\u001b[0m \u001b[43m        \u001b[49m\u001b[43mconfig\u001b[49m\u001b[38;5;241;43m=\u001b[39;49m\u001b[43mconfig\u001b[49m\u001b[43m,\u001b[49m\n\u001b[0;32m     58\u001b[0m \u001b[43m    \u001b[49m\u001b[43m)\u001b[49m\n",
      "File \u001b[1;32m~\\AppData\\Local\\Programs\\Python\\Python312\\Lib\\site-packages\\spacy\\util.py:472\u001b[0m, in \u001b[0;36mload_model\u001b[1;34m(name, vocab, disable, enable, exclude, config)\u001b[0m\n\u001b[0;32m    470\u001b[0m \u001b[38;5;28;01mif\u001b[39;00m name \u001b[38;5;129;01min\u001b[39;00m OLD_MODEL_SHORTCUTS:\n\u001b[0;32m    471\u001b[0m     \u001b[38;5;28;01mraise\u001b[39;00m \u001b[38;5;167;01mIOError\u001b[39;00m(Errors\u001b[38;5;241m.\u001b[39mE941\u001b[38;5;241m.\u001b[39mformat(name\u001b[38;5;241m=\u001b[39mname, full\u001b[38;5;241m=\u001b[39mOLD_MODEL_SHORTCUTS[name]))  \u001b[38;5;66;03m# type: ignore[index]\u001b[39;00m\n\u001b[1;32m--> 472\u001b[0m \u001b[38;5;28;01mraise\u001b[39;00m \u001b[38;5;167;01mIOError\u001b[39;00m(Errors\u001b[38;5;241m.\u001b[39mE050\u001b[38;5;241m.\u001b[39mformat(name\u001b[38;5;241m=\u001b[39mname))\n",
      "\u001b[1;31mOSError\u001b[0m: [E050] Can't find model 'zh_core_web_lg'. It doesn't seem to be a Python package or a valid path to a data directory."
     ]
    }
   ],
   "source": [
    "!python -m spacy download fi_core_news_sm\n",
    "\n",
    "import spacy\n",
    "\n",
    "# Load the Finnish language model\n",
    "nlp = spacy.load(\"zh_core_web_lg\")\n"
   ]
  },
  {
   "cell_type": "code",
   "execution_count": 19,
   "id": "95965f79-d72b-4f9c-9143-eba0bf714d4f",
   "metadata": {},
   "outputs": [
    {
     "name": "stdout",
     "output_type": "stream",
     "text": [
      "这是一个由50行组成的中文段落\n",
      "在这个段落中,我们将探讨人工智能技术的发展及其对社会的影响\n",
      "人工智能是计算机科学的一个重要分支,它的目标是创造能够模拟人类智能的机器\n",
      "近年来,人工智能技术取得了长足的进步,在许多领域都有着广泛的应用,如自然语言处理、计算机视觉、机器学习等\n",
      "这些技术的发展为我们的生活带来了诸多便利,同时也引发了一些伦理和社会问题\n",
      "\n",
      "\n"
     ]
    }
   ],
   "source": [
    "file = open(\"C:\\\\Users\\\\Dell\\\\OneDrive\\\\Desktop\\\\TextBasedAnalysis\\\\chinese.txt\", \"r\", encoding=\"utf-8\")\n",
    "\n",
    "# This file contains one paragraph with multiple sentences\n",
    "filedata = file.readlines()\n",
    "\n",
    "article = filedata[0].split(\"。\")  # Process only the first paragraph, split on Chinese period \"。\"\n",
    "\n",
    "sentences = []\n",
    "\n",
    "for sentence in article:\n",
    "    print(sentence)\n",
    "    doc = nlp(sentence)\n",
    "    words = [token.text for token in doc]\n",
    "    sentences.append(words)"
   ]
  },
  {
   "cell_type": "code",
   "execution_count": 20,
   "id": "b20ba224-bea5-4587-8810-b69021b4a2d3",
   "metadata": {},
   "outputs": [
    {
     "name": "stdout",
     "output_type": "stream",
     "text": [
      "Sentences are  [['这是一个由50行组成的中文段落'], ['在这个段落中', ',', '我们将探讨人工智能技术的发展及其对社会的影响'], ['人工智能是计算机科学的一个重要分支', ',', '它的目标是创造能够模拟人类智能的机器'], ['近年来', ',', '人工智能技术取得了长足的进步', ',', '在许多领域都有着广泛的应用', ',', '如自然语言处理、计算机视觉、机器学习等'], ['这些技术的发展为我们的生活带来了诸多便利', ',', '同时也引发了一些伦理和社会问题'], ['\\n']]\n"
     ]
    }
   ],
   "source": [
    "print(\"Sentences are \", sentences)"
   ]
  },
  {
   "cell_type": "code",
   "execution_count": 21,
   "id": "fc43604e-9868-49d1-9cc3-7dbcbce43301",
   "metadata": {},
   "outputs": [],
   "source": [
    "def sentence_similarity(sent1, sent2 ):\n",
    "    sent1 = [w.lower() for w in sent1]\n",
    "    sent2 = [w.lower() for w in sent2]\n",
    "    all_words = list(set(sent1 + sent2))\n",
    "    vector1 = [0] * len(all_words)\n",
    "    vector2 = [0] * len(all_words)\n",
    "     # build the vector for the first sentence\n",
    "    for w in sent1:\n",
    "          vector1[all_words.index(w)] += 1\n",
    "     # build the vector for the second sentence\n",
    "    for w in sent2:\n",
    "          vector2[all_words.index(w)] += 1\n",
    "    return 1 - cosine_distance(vector1, vector2)"
   ]
  },
  {
   "cell_type": "code",
   "execution_count": 22,
   "id": "e2dbdf7d-b072-4bc8-88fa-e7e80f350f94",
   "metadata": {},
   "outputs": [
    {
     "name": "stdout",
     "output_type": "stream",
     "text": [
      "Smilarity matrix \n",
      " [[0.         0.         0.         0.         0.         0.        ]\n",
      " [0.         0.         0.33333333 0.48038446 0.33333333 0.        ]\n",
      " [0.         0.33333333 0.         0.48038446 0.33333333 0.        ]\n",
      " [0.         0.48038446 0.48038446 0.         0.48038446 0.        ]\n",
      " [0.         0.33333333 0.33333333 0.48038446 0.         0.        ]\n",
      " [0.         0.         0.         0.         0.         0.        ]]\n"
     ]
    }
   ],
   "source": [
    "import numpy as np\n",
    "similarity_matrix = np.zeros((len(sentences), len(sentences)))\n",
    " \n",
    "for idx1 in range(len(sentences)):\n",
    "        for idx2 in range(len(sentences)):\n",
    "             if idx1 == idx2: #ignore if both are same sentences\n",
    "                continue \n",
    "             similarity_matrix[idx1][idx2] = sentence_similarity(sentences[idx1], sentences[idx2])\n",
    "\n",
    "print(\"Smilarity matrix \\n\", similarity_matrix)\n"
   ]
  },
  {
   "cell_type": "code",
   "execution_count": 23,
   "id": "369e0cf7-ec6f-4b95-95c2-f185c8b45205",
   "metadata": {},
   "outputs": [
    {
     "name": "stdout",
     "output_type": "stream",
     "text": [
      "scores {0: 0.03488384541998177, 1: 0.22009878393430723, 2: 0.22009878393430723, 3: 0.26993595735711473, 4: 0.22009878393430723, 5: 0.03488384541998177}\n"
     ]
    }
   ],
   "source": [
    "# Step 3 - Rank sentences in similarity martix\n",
    "sentence_similarity_graph = nx.from_numpy_array(similarity_matrix)\n",
    "scores = nx.pagerank(sentence_similarity_graph)\n",
    "print(\"scores\", scores)"
   ]
  },
  {
   "cell_type": "code",
   "execution_count": 24,
   "id": "ae839115-15ee-420b-8aa1-255644df69af",
   "metadata": {},
   "outputs": [
    {
     "name": "stdout",
     "output_type": "stream",
     "text": [
      "Indexes of top ranked_sentence order are \n",
      "\n",
      " [(0.26993595735711473, ['近年来', ',', '人工智能技术取得了长足的进步', ',', '在许多领域都有着广泛的应用', ',', '如自然语言处理、计算机视觉、机器学习等']), (0.22009878393430723, ['这些技术的发展为我们的生活带来了诸多便利', ',', '同时也引发了一些伦理和社会问题']), (0.22009878393430723, ['在这个段落中', ',', '我们将探讨人工智能技术的发展及其对社会的影响']), (0.22009878393430723, ['人工智能是计算机科学的一个重要分支', ',', '它的目标是创造能够模拟人类智能的机器']), (0.03488384541998177, ['这是一个由50行组成的中文段落']), (0.03488384541998177, ['\\n'])]\n"
     ]
    }
   ],
   "source": [
    "# Step 4 - Sort the rank and pick top sentences\n",
    "ranked_sentence = sorted(((scores[i],s) for i,s in enumerate(sentences)), reverse=True)    \n",
    "print(\"Indexes of top ranked_sentence order are \\n\\n\", ranked_sentence)\n"
   ]
  },
  {
   "cell_type": "code",
   "execution_count": 26,
   "id": "1595d585-a0cc-4b23-ad5d-dabbf60fd1f8",
   "metadata": {},
   "outputs": [
    {
     "name": "stdin",
     "output_type": "stream",
     "text": [
      "How many sentences do you want in the summary?  4\n"
     ]
    }
   ],
   "source": [
    "#Step 5 - How many sentences to pick\n",
    "n = int(input(\"How many sentences do you want in the summary? \"))\n",
    "#n=2\n",
    "summarize_text = []\n",
    "for i in range(n):\n",
    "      summarize_text.append(\" \".join(ranked_sentence[i][1]))\n",
    "\n"
   ]
  },
  {
   "cell_type": "code",
   "execution_count": 27,
   "id": "4b1184f5-f26d-4b25-9db6-0d547ce2c26d",
   "metadata": {},
   "outputs": [
    {
     "name": "stdout",
     "output_type": "stream",
     "text": [
      "Summarize Text: \n",
      " 近年来 , 人工智能技术取得了长足的进步 , 在许多领域都有着广泛的应用 , 如自然语言处理、计算机视觉、机器学习等. 这些技术的发展为我们的生活带来了诸多便利 , 同时也引发了一些伦理和社会问题. 在这个段落中 , 我们将探讨人工智能技术的发展及其对社会的影响. 人工智能是计算机科学的一个重要分支 , 它的目标是创造能够模拟人类智能的机器\n"
     ]
    }
   ],
   "source": [
    "# Step 6 - Offcourse, output the summarize text\n",
    "print(\"Summarize Text: \\n\", \". \".join(summarize_text))"
   ]
  },
  {
   "cell_type": "markdown",
   "id": "28581a8e-9261-4d2e-a638-590fe6eb6d5c",
   "metadata": {},
   "source": [
    "# Japanese"
   ]
  },
  {
   "cell_type": "code",
   "execution_count": 28,
   "id": "26abae83-08fc-490d-b82b-1f8bf1abab5d",
   "metadata": {},
   "outputs": [
    {
     "name": "stdout",
     "output_type": "stream",
     "text": [
      "Collecting fi-core-news-sm==3.7.0\n",
      "  Downloading https://github.com/explosion/spacy-models/releases/download/fi_core_news_sm-3.7.0/fi_core_news_sm-3.7.0-py3-none-any.whl (14.3 MB)\n",
      "     ---------------------------------------- 0.0/14.3 MB ? eta -:--:--\n",
      "     ---------------------------------------- 0.0/14.3 MB ? eta -:--:--\n",
      "     ---------------------------------------- 0.0/14.3 MB ? eta -:--:--\n",
      "     ---------------------------------------- 0.0/14.3 MB ? eta -:--:--\n",
      "     --------------------------------------- 0.0/14.3 MB 187.9 kB/s eta 0:01:17\n",
      "     --------------------------------------- 0.0/14.3 MB 178.6 kB/s eta 0:01:21\n",
      "     --------------------------------------- 0.1/14.3 MB 350.1 kB/s eta 0:00:41\n",
      "     --------------------------------------- 0.1/14.3 MB 500.5 kB/s eta 0:00:29\n",
      "      -------------------------------------- 0.3/14.3 MB 787.7 kB/s eta 0:00:18\n",
      "      -------------------------------------- 0.3/14.3 MB 873.8 kB/s eta 0:00:17\n",
      "     - -------------------------------------- 0.5/14.3 MB 1.2 MB/s eta 0:00:12\n",
      "     - -------------------------------------- 0.6/14.3 MB 1.3 MB/s eta 0:00:11\n",
      "     - -------------------------------------- 0.6/14.3 MB 1.2 MB/s eta 0:00:12\n",
      "     - -------------------------------------- 0.7/14.3 MB 1.2 MB/s eta 0:00:12\n",
      "     -- ------------------------------------- 0.8/14.3 MB 1.3 MB/s eta 0:00:11\n",
      "     -- ------------------------------------- 0.8/14.3 MB 1.3 MB/s eta 0:00:11\n",
      "     -- ------------------------------------- 0.9/14.3 MB 1.3 MB/s eta 0:00:11\n",
      "     -- ------------------------------------- 1.0/14.3 MB 1.3 MB/s eta 0:00:11\n",
      "     -- ------------------------------------- 1.1/14.3 MB 1.3 MB/s eta 0:00:10\n",
      "     --- ------------------------------------ 1.2/14.3 MB 1.4 MB/s eta 0:00:10\n",
      "     --- ------------------------------------ 1.4/14.3 MB 1.5 MB/s eta 0:00:09\n",
      "     ---- ----------------------------------- 1.5/14.3 MB 1.6 MB/s eta 0:00:08\n",
      "     ---- ----------------------------------- 1.6/14.3 MB 1.6 MB/s eta 0:00:09\n",
      "     ---- ----------------------------------- 1.7/14.3 MB 1.6 MB/s eta 0:00:08\n",
      "     ---- ----------------------------------- 1.8/14.3 MB 1.6 MB/s eta 0:00:08\n",
      "     ----- ---------------------------------- 1.9/14.3 MB 1.7 MB/s eta 0:00:08\n",
      "     ----- ---------------------------------- 2.0/14.3 MB 1.7 MB/s eta 0:00:08\n",
      "     ----- ---------------------------------- 2.1/14.3 MB 1.7 MB/s eta 0:00:08\n",
      "     ------ --------------------------------- 2.2/14.3 MB 1.7 MB/s eta 0:00:07\n",
      "     ------ --------------------------------- 2.4/14.3 MB 1.8 MB/s eta 0:00:07\n",
      "     ------ --------------------------------- 2.4/14.3 MB 1.8 MB/s eta 0:00:07\n",
      "     ------- -------------------------------- 2.6/14.3 MB 1.8 MB/s eta 0:00:07\n",
      "     ------- -------------------------------- 2.8/14.3 MB 1.9 MB/s eta 0:00:07\n",
      "     -------- ------------------------------- 2.9/14.3 MB 1.9 MB/s eta 0:00:06\n",
      "     -------- ------------------------------- 3.1/14.3 MB 2.0 MB/s eta 0:00:06\n",
      "     -------- ------------------------------- 3.1/14.3 MB 2.0 MB/s eta 0:00:06\n",
      "     -------- ------------------------------- 3.2/14.3 MB 1.9 MB/s eta 0:00:06\n",
      "     -------- ------------------------------- 3.2/14.3 MB 1.9 MB/s eta 0:00:06\n",
      "     --------- ------------------------------ 3.3/14.3 MB 1.9 MB/s eta 0:00:06\n",
      "     --------- ------------------------------ 3.4/14.3 MB 1.9 MB/s eta 0:00:06\n",
      "     ---------- ----------------------------- 3.6/14.3 MB 1.9 MB/s eta 0:00:06\n",
      "     ---------- ----------------------------- 3.6/14.3 MB 1.9 MB/s eta 0:00:06\n",
      "     ---------- ----------------------------- 3.7/14.3 MB 1.9 MB/s eta 0:00:06\n",
      "     ---------- ----------------------------- 3.7/14.3 MB 1.9 MB/s eta 0:00:06\n",
      "     ---------- ----------------------------- 3.9/14.3 MB 1.9 MB/s eta 0:00:06\n",
      "     ----------- ---------------------------- 4.0/14.3 MB 1.9 MB/s eta 0:00:06\n",
      "     ----------- ---------------------------- 4.1/14.3 MB 1.9 MB/s eta 0:00:06\n",
      "     ----------- ---------------------------- 4.2/14.3 MB 2.0 MB/s eta 0:00:06\n",
      "     ----------- ---------------------------- 4.3/14.3 MB 2.0 MB/s eta 0:00:06\n",
      "     ------------ --------------------------- 4.3/14.3 MB 1.9 MB/s eta 0:00:06\n",
      "     ------------ --------------------------- 4.5/14.3 MB 1.9 MB/s eta 0:00:06\n",
      "     ------------ --------------------------- 4.6/14.3 MB 1.9 MB/s eta 0:00:06\n",
      "     ------------ --------------------------- 4.6/14.3 MB 1.9 MB/s eta 0:00:06\n",
      "     ------------ --------------------------- 4.6/14.3 MB 1.9 MB/s eta 0:00:06\n",
      "     ------------- -------------------------- 4.8/14.3 MB 1.9 MB/s eta 0:00:06\n",
      "     ------------- -------------------------- 5.0/14.3 MB 1.9 MB/s eta 0:00:05\n",
      "     ------------- -------------------------- 5.0/14.3 MB 1.9 MB/s eta 0:00:05\n",
      "     -------------- ------------------------- 5.1/14.3 MB 1.9 MB/s eta 0:00:05\n",
      "     -------------- ------------------------- 5.1/14.3 MB 1.9 MB/s eta 0:00:05\n",
      "     -------------- ------------------------- 5.2/14.3 MB 1.9 MB/s eta 0:00:05\n",
      "     -------------- ------------------------- 5.4/14.3 MB 1.9 MB/s eta 0:00:05\n",
      "     --------------- ------------------------ 5.5/14.3 MB 1.9 MB/s eta 0:00:05\n",
      "     --------------- ------------------------ 5.6/14.3 MB 2.0 MB/s eta 0:00:05\n",
      "     --------------- ------------------------ 5.7/14.3 MB 1.9 MB/s eta 0:00:05\n",
      "     ---------------- ----------------------- 5.8/14.3 MB 1.9 MB/s eta 0:00:05\n",
      "     ---------------- ----------------------- 5.9/14.3 MB 2.0 MB/s eta 0:00:05\n",
      "     ----------------- ---------------------- 6.1/14.3 MB 2.0 MB/s eta 0:00:05\n",
      "     ----------------- ---------------------- 6.3/14.3 MB 2.0 MB/s eta 0:00:05\n",
      "     ----------------- ---------------------- 6.4/14.3 MB 2.0 MB/s eta 0:00:04\n",
      "     ------------------ --------------------- 6.5/14.3 MB 2.0 MB/s eta 0:00:04\n",
      "     ------------------ --------------------- 6.6/14.3 MB 2.0 MB/s eta 0:00:04\n",
      "     ------------------ --------------------- 6.7/14.3 MB 2.0 MB/s eta 0:00:04\n",
      "     ------------------- -------------------- 6.9/14.3 MB 2.0 MB/s eta 0:00:04\n",
      "     ------------------- -------------------- 7.0/14.3 MB 2.1 MB/s eta 0:00:04\n",
      "     -------------------- ------------------- 7.2/14.3 MB 2.1 MB/s eta 0:00:04\n",
      "     -------------------- ------------------- 7.5/14.3 MB 2.1 MB/s eta 0:00:04\n",
      "     --------------------- ------------------ 7.5/14.3 MB 2.1 MB/s eta 0:00:04\n",
      "     --------------------- ------------------ 7.6/14.3 MB 2.1 MB/s eta 0:00:04\n",
      "     --------------------- ------------------ 7.7/14.3 MB 2.1 MB/s eta 0:00:04\n",
      "     --------------------- ------------------ 7.8/14.3 MB 2.1 MB/s eta 0:00:04\n",
      "     ---------------------- ----------------- 7.9/14.3 MB 2.1 MB/s eta 0:00:04\n",
      "     ---------------------- ----------------- 8.0/14.3 MB 2.1 MB/s eta 0:00:04\n",
      "     ---------------------- ----------------- 8.1/14.3 MB 2.1 MB/s eta 0:00:03\n",
      "     ---------------------- ----------------- 8.2/14.3 MB 2.1 MB/s eta 0:00:03\n",
      "     ----------------------- ---------------- 8.3/14.3 MB 2.1 MB/s eta 0:00:03\n",
      "     ----------------------- ---------------- 8.4/14.3 MB 2.1 MB/s eta 0:00:03\n",
      "     ----------------------- ---------------- 8.6/14.3 MB 2.1 MB/s eta 0:00:03\n",
      "     ------------------------ --------------- 8.7/14.3 MB 2.1 MB/s eta 0:00:03\n",
      "     ------------------------ --------------- 8.9/14.3 MB 2.2 MB/s eta 0:00:03\n",
      "     ------------------------ --------------- 8.9/14.3 MB 2.2 MB/s eta 0:00:03\n",
      "     ------------------------- -------------- 9.1/14.3 MB 2.2 MB/s eta 0:00:03\n",
      "     ------------------------- -------------- 9.1/14.3 MB 2.2 MB/s eta 0:00:03\n",
      "     -------------------------- ------------- 9.5/14.3 MB 2.2 MB/s eta 0:00:03\n",
      "     -------------------------- ------------- 9.6/14.3 MB 2.2 MB/s eta 0:00:03\n",
      "     -------------------------- ------------- 9.6/14.3 MB 2.2 MB/s eta 0:00:03\n",
      "     -------------------------- ------------- 9.7/14.3 MB 2.1 MB/s eta 0:00:03\n",
      "     --------------------------- ------------ 9.8/14.3 MB 2.1 MB/s eta 0:00:03\n",
      "     --------------------------- ------------ 10.0/14.3 MB 2.2 MB/s eta 0:00:03\n",
      "     ---------------------------- ----------- 10.1/14.3 MB 2.2 MB/s eta 0:00:02\n",
      "     ---------------------------- ----------- 10.2/14.3 MB 2.2 MB/s eta 0:00:02\n",
      "     ---------------------------- ----------- 10.2/14.3 MB 2.1 MB/s eta 0:00:02\n",
      "     ---------------------------- ----------- 10.3/14.3 MB 2.2 MB/s eta 0:00:02\n",
      "     ----------------------------- ---------- 10.4/14.3 MB 2.2 MB/s eta 0:00:02\n",
      "     ----------------------------- ---------- 10.7/14.3 MB 2.3 MB/s eta 0:00:02\n",
      "     ------------------------------ --------- 10.8/14.3 MB 2.3 MB/s eta 0:00:02\n",
      "     ------------------------------ --------- 10.9/14.3 MB 2.3 MB/s eta 0:00:02\n",
      "     ------------------------------ --------- 11.0/14.3 MB 2.3 MB/s eta 0:00:02\n",
      "     ------------------------------- -------- 11.2/14.3 MB 2.4 MB/s eta 0:00:02\n",
      "     ------------------------------- -------- 11.3/14.3 MB 2.4 MB/s eta 0:00:02\n",
      "     ------------------------------- -------- 11.4/14.3 MB 2.3 MB/s eta 0:00:02\n",
      "     ------------------------------- -------- 11.4/14.3 MB 2.3 MB/s eta 0:00:02\n",
      "     -------------------------------- ------- 11.5/14.3 MB 2.3 MB/s eta 0:00:02\n",
      "     -------------------------------- ------- 11.7/14.3 MB 2.3 MB/s eta 0:00:02\n",
      "     -------------------------------- ------- 11.7/14.3 MB 2.3 MB/s eta 0:00:02\n",
      "     --------------------------------- ------ 11.9/14.3 MB 2.3 MB/s eta 0:00:02\n",
      "     --------------------------------- ------ 11.9/14.3 MB 2.3 MB/s eta 0:00:02\n",
      "     --------------------------------- ------ 12.1/14.3 MB 2.3 MB/s eta 0:00:01\n",
      "     --------------------------------- ------ 12.1/14.3 MB 2.3 MB/s eta 0:00:01\n",
      "     ---------------------------------- ----- 12.2/14.3 MB 2.3 MB/s eta 0:00:01\n",
      "     ---------------------------------- ----- 12.3/14.3 MB 2.3 MB/s eta 0:00:01\n",
      "     ---------------------------------- ----- 12.5/14.3 MB 2.3 MB/s eta 0:00:01\n",
      "     ----------------------------------- ---- 12.6/14.3 MB 2.3 MB/s eta 0:00:01\n",
      "     ----------------------------------- ---- 12.7/14.3 MB 2.3 MB/s eta 0:00:01\n",
      "     ----------------------------------- ---- 12.8/14.3 MB 2.3 MB/s eta 0:00:01\n",
      "     ----------------------------------- ---- 12.9/14.3 MB 2.3 MB/s eta 0:00:01\n",
      "     ------------------------------------ --- 13.1/14.3 MB 2.3 MB/s eta 0:00:01\n",
      "     ------------------------------------ --- 13.1/14.3 MB 2.3 MB/s eta 0:00:01\n",
      "     ------------------------------------ --- 13.2/14.3 MB 2.3 MB/s eta 0:00:01\n",
      "     ------------------------------------- -- 13.3/14.3 MB 2.3 MB/s eta 0:00:01\n",
      "     ------------------------------------- -- 13.5/14.3 MB 2.3 MB/s eta 0:00:01\n",
      "     ------------------------------------- -- 13.6/14.3 MB 2.3 MB/s eta 0:00:01\n",
      "     -------------------------------------- - 13.7/14.3 MB 2.3 MB/s eta 0:00:01\n",
      "     -------------------------------------- - 13.7/14.3 MB 2.3 MB/s eta 0:00:01\n",
      "     -------------------------------------- - 13.8/14.3 MB 2.3 MB/s eta 0:00:01\n",
      "     -------------------------------------- - 13.9/14.3 MB 2.3 MB/s eta 0:00:01\n",
      "     ---------------------------------------  14.2/14.3 MB 2.3 MB/s eta 0:00:01\n",
      "     ---------------------------------------  14.3/14.3 MB 2.3 MB/s eta 0:00:01\n",
      "     ---------------------------------------- 14.3/14.3 MB 2.3 MB/s eta 0:00:00\n",
      "Requirement already satisfied: spacy<3.8.0,>=3.7.0 in c:\\users\\dell\\appdata\\local\\programs\\python\\python312\\lib\\site-packages (from fi-core-news-sm==3.7.0) (3.7.4)\n",
      "Requirement already satisfied: spacy-legacy<3.1.0,>=3.0.11 in c:\\users\\dell\\appdata\\local\\programs\\python\\python312\\lib\\site-packages (from spacy<3.8.0,>=3.7.0->fi-core-news-sm==3.7.0) (3.0.12)\n",
      "Requirement already satisfied: spacy-loggers<2.0.0,>=1.0.0 in c:\\users\\dell\\appdata\\local\\programs\\python\\python312\\lib\\site-packages (from spacy<3.8.0,>=3.7.0->fi-core-news-sm==3.7.0) (1.0.5)\n",
      "Requirement already satisfied: murmurhash<1.1.0,>=0.28.0 in c:\\users\\dell\\appdata\\local\\programs\\python\\python312\\lib\\site-packages (from spacy<3.8.0,>=3.7.0->fi-core-news-sm==3.7.0) (1.0.10)\n",
      "Requirement already satisfied: cymem<2.1.0,>=2.0.2 in c:\\users\\dell\\appdata\\local\\programs\\python\\python312\\lib\\site-packages (from spacy<3.8.0,>=3.7.0->fi-core-news-sm==3.7.0) (2.0.8)\n",
      "Requirement already satisfied: preshed<3.1.0,>=3.0.2 in c:\\users\\dell\\appdata\\local\\programs\\python\\python312\\lib\\site-packages (from spacy<3.8.0,>=3.7.0->fi-core-news-sm==3.7.0) (3.0.9)\n",
      "Requirement already satisfied: thinc<8.3.0,>=8.2.2 in c:\\users\\dell\\appdata\\local\\programs\\python\\python312\\lib\\site-packages (from spacy<3.8.0,>=3.7.0->fi-core-news-sm==3.7.0) (8.2.3)\n",
      "Requirement already satisfied: wasabi<1.2.0,>=0.9.1 in c:\\users\\dell\\appdata\\local\\programs\\python\\python312\\lib\\site-packages (from spacy<3.8.0,>=3.7.0->fi-core-news-sm==3.7.0) (1.1.2)\n",
      "Requirement already satisfied: srsly<3.0.0,>=2.4.3 in c:\\users\\dell\\appdata\\local\\programs\\python\\python312\\lib\\site-packages (from spacy<3.8.0,>=3.7.0->fi-core-news-sm==3.7.0) (2.4.8)\n",
      "Requirement already satisfied: catalogue<2.1.0,>=2.0.6 in c:\\users\\dell\\appdata\\local\\programs\\python\\python312\\lib\\site-packages (from spacy<3.8.0,>=3.7.0->fi-core-news-sm==3.7.0) (2.0.10)\n",
      "Requirement already satisfied: weasel<0.4.0,>=0.1.0 in c:\\users\\dell\\appdata\\local\\programs\\python\\python312\\lib\\site-packages (from spacy<3.8.0,>=3.7.0->fi-core-news-sm==3.7.0) (0.3.4)\n",
      "Requirement already satisfied: typer<0.10.0,>=0.3.0 in c:\\users\\dell\\appdata\\local\\programs\\python\\python312\\lib\\site-packages (from spacy<3.8.0,>=3.7.0->fi-core-news-sm==3.7.0) (0.9.4)\n",
      "Requirement already satisfied: smart-open<7.0.0,>=5.2.1 in c:\\users\\dell\\appdata\\local\\programs\\python\\python312\\lib\\site-packages (from spacy<3.8.0,>=3.7.0->fi-core-news-sm==3.7.0) (6.4.0)\n",
      "Requirement already satisfied: tqdm<5.0.0,>=4.38.0 in c:\\users\\dell\\appdata\\local\\programs\\python\\python312\\lib\\site-packages (from spacy<3.8.0,>=3.7.0->fi-core-news-sm==3.7.0) (4.66.2)\n",
      "Requirement already satisfied: requests<3.0.0,>=2.13.0 in c:\\users\\dell\\appdata\\local\\programs\\python\\python312\\lib\\site-packages (from spacy<3.8.0,>=3.7.0->fi-core-news-sm==3.7.0) (2.31.0)\n",
      "Requirement already satisfied: pydantic!=1.8,!=1.8.1,<3.0.0,>=1.7.4 in c:\\users\\dell\\appdata\\local\\programs\\python\\python312\\lib\\site-packages (from spacy<3.8.0,>=3.7.0->fi-core-news-sm==3.7.0) (2.7.1)\n",
      "Requirement already satisfied: jinja2 in c:\\users\\dell\\appdata\\local\\programs\\python\\python312\\lib\\site-packages (from spacy<3.8.0,>=3.7.0->fi-core-news-sm==3.7.0) (3.1.3)\n",
      "Requirement already satisfied: setuptools in c:\\users\\dell\\appdata\\local\\programs\\python\\python312\\lib\\site-packages (from spacy<3.8.0,>=3.7.0->fi-core-news-sm==3.7.0) (69.5.1)\n",
      "Requirement already satisfied: packaging>=20.0 in c:\\users\\dell\\appdata\\local\\programs\\python\\python312\\lib\\site-packages (from spacy<3.8.0,>=3.7.0->fi-core-news-sm==3.7.0) (24.0)\n",
      "Requirement already satisfied: langcodes<4.0.0,>=3.2.0 in c:\\users\\dell\\appdata\\local\\programs\\python\\python312\\lib\\site-packages (from spacy<3.8.0,>=3.7.0->fi-core-news-sm==3.7.0) (3.4.0)\n",
      "Requirement already satisfied: numpy>=1.19.0 in c:\\users\\dell\\appdata\\local\\programs\\python\\python312\\lib\\site-packages (from spacy<3.8.0,>=3.7.0->fi-core-news-sm==3.7.0) (1.26.4)\n",
      "Requirement already satisfied: language-data>=1.2 in c:\\users\\dell\\appdata\\local\\programs\\python\\python312\\lib\\site-packages (from langcodes<4.0.0,>=3.2.0->spacy<3.8.0,>=3.7.0->fi-core-news-sm==3.7.0) (1.2.0)\n",
      "Requirement already satisfied: annotated-types>=0.4.0 in c:\\users\\dell\\appdata\\local\\programs\\python\\python312\\lib\\site-packages (from pydantic!=1.8,!=1.8.1,<3.0.0,>=1.7.4->spacy<3.8.0,>=3.7.0->fi-core-news-sm==3.7.0) (0.6.0)\n",
      "Requirement already satisfied: pydantic-core==2.18.2 in c:\\users\\dell\\appdata\\local\\programs\\python\\python312\\lib\\site-packages (from pydantic!=1.8,!=1.8.1,<3.0.0,>=1.7.4->spacy<3.8.0,>=3.7.0->fi-core-news-sm==3.7.0) (2.18.2)\n",
      "Requirement already satisfied: typing-extensions>=4.6.1 in c:\\users\\dell\\appdata\\local\\programs\\python\\python312\\lib\\site-packages (from pydantic!=1.8,!=1.8.1,<3.0.0,>=1.7.4->spacy<3.8.0,>=3.7.0->fi-core-news-sm==3.7.0) (4.11.0)\n",
      "Requirement already satisfied: charset-normalizer<4,>=2 in c:\\users\\dell\\appdata\\local\\programs\\python\\python312\\lib\\site-packages (from requests<3.0.0,>=2.13.0->spacy<3.8.0,>=3.7.0->fi-core-news-sm==3.7.0) (3.3.2)\n",
      "Requirement already satisfied: idna<4,>=2.5 in c:\\users\\dell\\appdata\\local\\programs\\python\\python312\\lib\\site-packages (from requests<3.0.0,>=2.13.0->spacy<3.8.0,>=3.7.0->fi-core-news-sm==3.7.0) (3.7)\n",
      "Requirement already satisfied: urllib3<3,>=1.21.1 in c:\\users\\dell\\appdata\\local\\programs\\python\\python312\\lib\\site-packages (from requests<3.0.0,>=2.13.0->spacy<3.8.0,>=3.7.0->fi-core-news-sm==3.7.0) (2.2.1)\n",
      "Requirement already satisfied: certifi>=2017.4.17 in c:\\users\\dell\\appdata\\local\\programs\\python\\python312\\lib\\site-packages (from requests<3.0.0,>=2.13.0->spacy<3.8.0,>=3.7.0->fi-core-news-sm==3.7.0) (2024.2.2)\n",
      "Requirement already satisfied: blis<0.8.0,>=0.7.8 in c:\\users\\dell\\appdata\\local\\programs\\python\\python312\\lib\\site-packages (from thinc<8.3.0,>=8.2.2->spacy<3.8.0,>=3.7.0->fi-core-news-sm==3.7.0) (0.7.11)\n",
      "Requirement already satisfied: confection<1.0.0,>=0.0.1 in c:\\users\\dell\\appdata\\local\\programs\\python\\python312\\lib\\site-packages (from thinc<8.3.0,>=8.2.2->spacy<3.8.0,>=3.7.0->fi-core-news-sm==3.7.0) (0.1.4)\n",
      "Requirement already satisfied: colorama in c:\\users\\dell\\appdata\\local\\programs\\python\\python312\\lib\\site-packages (from tqdm<5.0.0,>=4.38.0->spacy<3.8.0,>=3.7.0->fi-core-news-sm==3.7.0) (0.4.6)\n",
      "Requirement already satisfied: click<9.0.0,>=7.1.1 in c:\\users\\dell\\appdata\\local\\programs\\python\\python312\\lib\\site-packages (from typer<0.10.0,>=0.3.0->spacy<3.8.0,>=3.7.0->fi-core-news-sm==3.7.0) (8.1.7)\n",
      "Requirement already satisfied: cloudpathlib<0.17.0,>=0.7.0 in c:\\users\\dell\\appdata\\local\\programs\\python\\python312\\lib\\site-packages (from weasel<0.4.0,>=0.1.0->spacy<3.8.0,>=3.7.0->fi-core-news-sm==3.7.0) (0.16.0)\n",
      "Requirement already satisfied: MarkupSafe>=2.0 in c:\\users\\dell\\appdata\\local\\programs\\python\\python312\\lib\\site-packages (from jinja2->spacy<3.8.0,>=3.7.0->fi-core-news-sm==3.7.0) (2.1.5)\n",
      "Requirement already satisfied: marisa-trie>=0.7.7 in c:\\users\\dell\\appdata\\local\\programs\\python\\python312\\lib\\site-packages (from language-data>=1.2->langcodes<4.0.0,>=3.2.0->spacy<3.8.0,>=3.7.0->fi-core-news-sm==3.7.0) (1.1.0)\n",
      "\u001b[38;5;2m[+] Download and installation successful\u001b[0m\n",
      "You can now load the package via spacy.load('fi_core_news_sm')\n"
     ]
    },
    {
     "ename": "OSError",
     "evalue": "[E050] Can't find model 'ja_core_news_lg'. It doesn't seem to be a Python package or a valid path to a data directory.",
     "output_type": "error",
     "traceback": [
      "\u001b[1;31m---------------------------------------------------------------------------\u001b[0m",
      "\u001b[1;31mOSError\u001b[0m                                   Traceback (most recent call last)",
      "Cell \u001b[1;32mIn[28], line 6\u001b[0m\n\u001b[0;32m      3\u001b[0m \u001b[38;5;28;01mimport\u001b[39;00m \u001b[38;5;21;01mspacy\u001b[39;00m\n\u001b[0;32m      5\u001b[0m \u001b[38;5;66;03m# Load the Finnish language model\u001b[39;00m\n\u001b[1;32m----> 6\u001b[0m nlp \u001b[38;5;241m=\u001b[39m \u001b[43mspacy\u001b[49m\u001b[38;5;241;43m.\u001b[39;49m\u001b[43mload\u001b[49m\u001b[43m(\u001b[49m\u001b[38;5;124;43m\"\u001b[39;49m\u001b[38;5;124;43mja_core_news_lg\u001b[39;49m\u001b[38;5;124;43m\"\u001b[39;49m\u001b[43m)\u001b[49m\n",
      "File \u001b[1;32m~\\AppData\\Local\\Programs\\Python\\Python312\\Lib\\site-packages\\spacy\\__init__.py:51\u001b[0m, in \u001b[0;36mload\u001b[1;34m(name, vocab, disable, enable, exclude, config)\u001b[0m\n\u001b[0;32m     27\u001b[0m \u001b[38;5;28;01mdef\u001b[39;00m \u001b[38;5;21mload\u001b[39m(\n\u001b[0;32m     28\u001b[0m     name: Union[\u001b[38;5;28mstr\u001b[39m, Path],\n\u001b[0;32m     29\u001b[0m     \u001b[38;5;241m*\u001b[39m,\n\u001b[1;32m   (...)\u001b[0m\n\u001b[0;32m     34\u001b[0m     config: Union[Dict[\u001b[38;5;28mstr\u001b[39m, Any], Config] \u001b[38;5;241m=\u001b[39m util\u001b[38;5;241m.\u001b[39mSimpleFrozenDict(),\n\u001b[0;32m     35\u001b[0m ) \u001b[38;5;241m-\u001b[39m\u001b[38;5;241m>\u001b[39m Language:\n\u001b[0;32m     36\u001b[0m \u001b[38;5;250m    \u001b[39m\u001b[38;5;124;03m\"\"\"Load a spaCy model from an installed package or a local path.\u001b[39;00m\n\u001b[0;32m     37\u001b[0m \n\u001b[0;32m     38\u001b[0m \u001b[38;5;124;03m    name (str): Package name or model path.\u001b[39;00m\n\u001b[1;32m   (...)\u001b[0m\n\u001b[0;32m     49\u001b[0m \u001b[38;5;124;03m    RETURNS (Language): The loaded nlp object.\u001b[39;00m\n\u001b[0;32m     50\u001b[0m \u001b[38;5;124;03m    \"\"\"\u001b[39;00m\n\u001b[1;32m---> 51\u001b[0m     \u001b[38;5;28;01mreturn\u001b[39;00m \u001b[43mutil\u001b[49m\u001b[38;5;241;43m.\u001b[39;49m\u001b[43mload_model\u001b[49m\u001b[43m(\u001b[49m\n\u001b[0;32m     52\u001b[0m \u001b[43m        \u001b[49m\u001b[43mname\u001b[49m\u001b[43m,\u001b[49m\n\u001b[0;32m     53\u001b[0m \u001b[43m        \u001b[49m\u001b[43mvocab\u001b[49m\u001b[38;5;241;43m=\u001b[39;49m\u001b[43mvocab\u001b[49m\u001b[43m,\u001b[49m\n\u001b[0;32m     54\u001b[0m \u001b[43m        \u001b[49m\u001b[43mdisable\u001b[49m\u001b[38;5;241;43m=\u001b[39;49m\u001b[43mdisable\u001b[49m\u001b[43m,\u001b[49m\n\u001b[0;32m     55\u001b[0m \u001b[43m        \u001b[49m\u001b[43menable\u001b[49m\u001b[38;5;241;43m=\u001b[39;49m\u001b[43menable\u001b[49m\u001b[43m,\u001b[49m\n\u001b[0;32m     56\u001b[0m \u001b[43m        \u001b[49m\u001b[43mexclude\u001b[49m\u001b[38;5;241;43m=\u001b[39;49m\u001b[43mexclude\u001b[49m\u001b[43m,\u001b[49m\n\u001b[0;32m     57\u001b[0m \u001b[43m        \u001b[49m\u001b[43mconfig\u001b[49m\u001b[38;5;241;43m=\u001b[39;49m\u001b[43mconfig\u001b[49m\u001b[43m,\u001b[49m\n\u001b[0;32m     58\u001b[0m \u001b[43m    \u001b[49m\u001b[43m)\u001b[49m\n",
      "File \u001b[1;32m~\\AppData\\Local\\Programs\\Python\\Python312\\Lib\\site-packages\\spacy\\util.py:472\u001b[0m, in \u001b[0;36mload_model\u001b[1;34m(name, vocab, disable, enable, exclude, config)\u001b[0m\n\u001b[0;32m    470\u001b[0m \u001b[38;5;28;01mif\u001b[39;00m name \u001b[38;5;129;01min\u001b[39;00m OLD_MODEL_SHORTCUTS:\n\u001b[0;32m    471\u001b[0m     \u001b[38;5;28;01mraise\u001b[39;00m \u001b[38;5;167;01mIOError\u001b[39;00m(Errors\u001b[38;5;241m.\u001b[39mE941\u001b[38;5;241m.\u001b[39mformat(name\u001b[38;5;241m=\u001b[39mname, full\u001b[38;5;241m=\u001b[39mOLD_MODEL_SHORTCUTS[name]))  \u001b[38;5;66;03m# type: ignore[index]\u001b[39;00m\n\u001b[1;32m--> 472\u001b[0m \u001b[38;5;28;01mraise\u001b[39;00m \u001b[38;5;167;01mIOError\u001b[39;00m(Errors\u001b[38;5;241m.\u001b[39mE050\u001b[38;5;241m.\u001b[39mformat(name\u001b[38;5;241m=\u001b[39mname))\n",
      "\u001b[1;31mOSError\u001b[0m: [E050] Can't find model 'ja_core_news_lg'. It doesn't seem to be a Python package or a valid path to a data directory."
     ]
    }
   ],
   "source": [
    "!python -m spacy download fi_core_news_sm\n",
    "\n",
    "import spacy\n",
    "\n",
    "# Load the Finnish language model\n",
    "nlp = spacy.load(\"ja_core_news_lg\")"
   ]
  },
  {
   "cell_type": "code",
   "execution_count": 29,
   "id": "ae861b21-8f8e-4dde-a77d-18022c3bd421",
   "metadata": {},
   "outputs": [
    {
     "name": "stdout",
     "output_type": "stream",
     "text": [
      "日本語は、日本で話されている言語であり、世界で最も複雑な言語の1つとして知られています\n",
      "日本語の文法構造は、英語などの西洋言語とは大きく異なります\n",
      "例えば、日本語では主語が省略されることが多く、動詞が文の最後に置かれます\n",
      "また、敬語の使い方が非常に重要で、相手との関係性に応じて適切な敬語を使い分ける必要があります\n",
      "\n",
      "\n"
     ]
    }
   ],
   "source": [
    "file = open(\"C:\\\\Users\\\\Dell\\\\OneDrive\\\\Desktop\\\\TextBasedAnalysis\\\\japanese.txt\", \"r\", encoding=\"utf-8\")\n",
    "\n",
    "# This file contains one paragraph with multiple sentences\n",
    "filedata = file.readlines()\n",
    "\n",
    "article = filedata[0].split(\"。\")  # Process only the first paragraph, split on Chinese period \"。\"\n",
    "\n",
    "sentences = []\n",
    "\n",
    "for sentence in article:\n",
    "    print(sentence)\n",
    "    doc = nlp(sentence)\n",
    "    words = [token.text for token in doc]\n",
    "    sentences.append(words)"
   ]
  },
  {
   "cell_type": "code",
   "execution_count": 30,
   "id": "b78b85fd-4e49-4f74-b5c5-3da6f8065034",
   "metadata": {},
   "outputs": [
    {
     "name": "stdout",
     "output_type": "stream",
     "text": [
      "Sentences are  [['日本語は、日本で話されている言語であり、世界で最も複雑な言語の1つとして知られています'], ['日本語の文法構造は、英語などの西洋言語とは大きく異なります'], ['例えば、日本語では主語が省略されることが多く、動詞が文の最後に置かれます'], ['また、敬語の使い方が非常に重要で、相手との関係性に応じて適切な敬語を使い分ける必要があります'], ['\\n']]\n"
     ]
    }
   ],
   "source": [
    "print(\"Sentences are \", sentences)"
   ]
  },
  {
   "cell_type": "code",
   "execution_count": 31,
   "id": "fe71188d-3e1a-4e37-be4b-72412253d6cd",
   "metadata": {},
   "outputs": [],
   "source": [
    "def sentence_similarity(sent1, sent2 ):\n",
    "    sent1 = [w.lower() for w in sent1]\n",
    "    sent2 = [w.lower() for w in sent2]\n",
    "    all_words = list(set(sent1 + sent2))\n",
    "    vector1 = [0] * len(all_words)\n",
    "    vector2 = [0] * len(all_words)\n",
    "     # build the vector for the first sentence\n",
    "    for w in sent1:\n",
    "          vector1[all_words.index(w)] += 1\n",
    "     # build the vector for the second sentence\n",
    "    for w in sent2:\n",
    "          vector2[all_words.index(w)] += 1\n",
    "    return 1 - cosine_distance(vector1, vector2)\n"
   ]
  },
  {
   "cell_type": "code",
   "execution_count": 32,
   "id": "ac0e6b3d-61be-4ea0-b5aa-5cf9abf80ec1",
   "metadata": {},
   "outputs": [
    {
     "name": "stdout",
     "output_type": "stream",
     "text": [
      "Smilarity matrix \n",
      " [[0. 0. 0. 0. 0.]\n",
      " [0. 0. 0. 0. 0.]\n",
      " [0. 0. 0. 0. 0.]\n",
      " [0. 0. 0. 0. 0.]\n",
      " [0. 0. 0. 0. 0.]]\n"
     ]
    }
   ],
   "source": [
    "similarity_matrix = np.zeros((len(sentences), len(sentences)))\n",
    " \n",
    "for idx1 in range(len(sentences)):\n",
    "        for idx2 in range(len(sentences)):\n",
    "             if idx1 == idx2: #ignore if both are same sentences\n",
    "                continue \n",
    "             similarity_matrix[idx1][idx2] = sentence_similarity(sentences[idx1], sentences[idx2])\n",
    "\n",
    "print(\"Smilarity matrix \\n\", similarity_matrix)\n"
   ]
  },
  {
   "cell_type": "code",
   "execution_count": 33,
   "id": "7964c3e0-cc1f-4bb9-a696-2cdf5c823827",
   "metadata": {},
   "outputs": [
    {
     "name": "stdout",
     "output_type": "stream",
     "text": [
      "scores {0: 0.2, 1: 0.2, 2: 0.2, 3: 0.2, 4: 0.2}\n"
     ]
    }
   ],
   "source": [
    "# Step 3 - Rank sentences in similarity martix\n",
    "sentence_similarity_graph = nx.from_numpy_array(similarity_matrix)\n",
    "scores = nx.pagerank(sentence_similarity_graph)\n",
    "print(\"scores\", scores)\n"
   ]
  },
  {
   "cell_type": "code",
   "execution_count": 34,
   "id": "848eb628-7070-40a5-8e09-d259914b802f",
   "metadata": {},
   "outputs": [
    {
     "name": "stdout",
     "output_type": "stream",
     "text": [
      "Indexes of top ranked_sentence order are \n",
      "\n",
      " [(0.2, ['日本語は、日本で話されている言語であり、世界で最も複雑な言語の1つとして知られています']), (0.2, ['日本語の文法構造は、英語などの西洋言語とは大きく異なります']), (0.2, ['例えば、日本語では主語が省略されることが多く、動詞が文の最後に置かれます']), (0.2, ['また、敬語の使い方が非常に重要で、相手との関係性に応じて適切な敬語を使い分ける必要があります']), (0.2, ['\\n'])]\n"
     ]
    }
   ],
   "source": [
    "# Step 4 - Sort the rank and pick top sentences\n",
    "ranked_sentence = sorted(((scores[i],s) for i,s in enumerate(sentences)), reverse=True)    \n",
    "print(\"Indexes of top ranked_sentence order are \\n\\n\", ranked_sentence)\n"
   ]
  },
  {
   "cell_type": "code",
   "execution_count": 35,
   "id": "fa79e055-fd7f-41d7-9fa8-c8da197bcd28",
   "metadata": {},
   "outputs": [
    {
     "name": "stdin",
     "output_type": "stream",
     "text": [
      "How many sentences do you want in the summary?  5\n"
     ]
    }
   ],
   "source": [
    "#Step 5 - How many sentences to pick\n",
    "n = int(input(\"How many sentences do you want in the summary? \"))\n",
    "#n=2\n",
    "summarize_text = []\n",
    "for i in range(n):\n",
    "      summarize_text.append(\" \".join(ranked_sentence[i][1]))\n"
   ]
  },
  {
   "cell_type": "code",
   "execution_count": 36,
   "id": "8d90d3e0-618d-482d-8b58-d4f67fb9a3b1",
   "metadata": {},
   "outputs": [
    {
     "name": "stdout",
     "output_type": "stream",
     "text": [
      "Summarize Text: \n",
      " 日本語は、日本で話されている言語であり、世界で最も複雑な言語の1つとして知られています. 日本語の文法構造は、英語などの西洋言語とは大きく異なります. 例えば、日本語では主語が省略されることが多く、動詞が文の最後に置かれます. また、敬語の使い方が非常に重要で、相手との関係性に応じて適切な敬語を使い分ける必要があります. \n",
      "\n"
     ]
    }
   ],
   "source": [
    "# Step 6 - Offcourse, output the summarize text\n",
    "print(\"Summarize Text: \\n\", \". \".join(summarize_text))"
   ]
  },
  {
   "cell_type": "code",
   "execution_count": null,
   "id": "643f42da-6645-49eb-a003-dc8a4c5ebe3b",
   "metadata": {},
   "outputs": [],
   "source": []
  }
 ],
 "metadata": {
  "kernelspec": {
   "display_name": "Python 3 (ipykernel)",
   "language": "python",
   "name": "python3"
  },
  "language_info": {
   "codemirror_mode": {
    "name": "ipython",
    "version": 3
   },
   "file_extension": ".py",
   "mimetype": "text/x-python",
   "name": "python",
   "nbconvert_exporter": "python",
   "pygments_lexer": "ipython3",
   "version": "3.12.3"
  }
 },
 "nbformat": 4,
 "nbformat_minor": 5
}
